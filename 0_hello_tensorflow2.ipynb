{
  "nbformat": 4,
  "nbformat_minor": 0,
  "metadata": {
    "colab": {
      "name": "0-hello-tensorflow2.ipynb",
      "provenance": []
    },
    "kernelspec": {
      "name": "python3",
      "display_name": "Python 3"
    },
    "language_info": {
      "name": "python"
    }
  },
  "cells": [
    {
      "cell_type": "code",
      "metadata": {
        "colab": {
          "base_uri": "https://localhost:8080/"
        },
        "id": "QQMcJVgAwGOL",
        "outputId": "662ade65-3f59-4aa8-90cc-cf338f5882b7"
      },
      "source": [
        "print(\"hello tensorflow2 👋\")"
      ],
      "execution_count": 2,
      "outputs": [
        {
          "output_type": "stream",
          "text": [
            "hello tensorflow2 👋\n"
          ],
          "name": "stdout"
        }
      ]
    },
    {
      "cell_type": "code",
      "metadata": {
        "colab": {
          "base_uri": "https://localhost:8080/"
        },
        "id": "AFUBajAPy5fD",
        "outputId": "8c738363-44df-4334-a157-6a93111a0e2d"
      },
      "source": [
        "import tensorflow as tf\n",
        "print(tf.version)"
      ],
      "execution_count": 4,
      "outputs": [
        {
          "output_type": "stream",
          "text": [
            "<module 'tensorflow._api.v2.version' from '/usr/local/lib/python3.7/dist-packages/tensorflow/_api/v2/version/__init__.py'>\n"
          ],
          "name": "stdout"
        }
      ]
    },
    {
      "cell_type": "code",
      "metadata": {
        "id": "kZiPVe1hy8uh"
      },
      "source": [
        "# load MNIST dataset\n",
        "mnist = tf.keras.datasets.mnist\n",
        "\n",
        "(x_train, y_train), (x_test, y_test) = mnist.load_data()\n",
        "x_train, x_test = x_train / 255.0, x_test / 255.0"
      ],
      "execution_count": 7,
      "outputs": []
    },
    {
      "cell_type": "code",
      "metadata": {
        "id": "OOKOzc2fzVha"
      },
      "source": [
        "# build the model\n",
        "model = tf.keras.models.Sequential(\n",
        "    [\n",
        "     tf.keras.layers.Flatten(input_shape=(28, 28)),\n",
        "     tf.keras.layers.Dense(128, activation='relu'),\n",
        "     tf.keras.layers.Dropout(0.2),\n",
        "     tf.keras.layers.Dense(10),\n",
        "    ]\n",
        ")"
      ],
      "execution_count": 10,
      "outputs": []
    },
    {
      "cell_type": "code",
      "metadata": {
        "colab": {
          "base_uri": "https://localhost:8080/"
        },
        "id": "fG79iydZzaat",
        "outputId": "efa36d42-b3e7-4b93-9ec8-e0de7838c888"
      },
      "source": [
        "predictions = model(x_train[:1]).numpy()\n",
        "predictions"
      ],
      "execution_count": 12,
      "outputs": [
        {
          "output_type": "execute_result",
          "data": {
            "text/plain": [
              "array([[ 0.17078039, -1.0955958 , -0.20024869, -0.07856199,  0.39482567,\n",
              "         0.90341824,  0.1532701 ,  0.38146445,  0.64190114, -0.87536967]],\n",
              "      dtype=float32)"
            ]
          },
          "metadata": {
            "tags": []
          },
          "execution_count": 12
        }
      ]
    },
    {
      "cell_type": "code",
      "metadata": {
        "colab": {
          "base_uri": "https://localhost:8080/"
        },
        "id": "svEN7zixz4TG",
        "outputId": "c87140d7-1d87-4813-b957-42faaf32b411"
      },
      "source": [
        "# convert it as probabilitites by softmax\n",
        "tf.nn.softmax(predictions).numpy()"
      ],
      "execution_count": 14,
      "outputs": [
        {
          "output_type": "execute_result",
          "data": {
            "text/plain": [
              "array([[0.09753131, 0.02748931, 0.06729893, 0.07600743, 0.12202412,\n",
              "        0.2029199 , 0.09583838, 0.12040456, 0.15622452, 0.03426154]],\n",
              "      dtype=float32)"
            ]
          },
          "metadata": {
            "tags": []
          },
          "execution_count": 14
        }
      ]
    },
    {
      "cell_type": "code",
      "metadata": {
        "id": "YAz_GyHTz7dN"
      },
      "source": [
        "loss_fn = tf.keras.losses.SparseCategoricalCrossentropy(from_logits=True)"
      ],
      "execution_count": 15,
      "outputs": []
    },
    {
      "cell_type": "code",
      "metadata": {
        "colab": {
          "base_uri": "https://localhost:8080/"
        },
        "id": "hMIpanDR0XPE",
        "outputId": "0ab7cd6c-6176-49dc-b46e-f786d9d6cb9c"
      },
      "source": [
        "loss_fn(y_train[:1], predictions).numpy()"
      ],
      "execution_count": 16,
      "outputs": [
        {
          "output_type": "execute_result",
          "data": {
            "text/plain": [
              "1.594944"
            ]
          },
          "metadata": {
            "tags": []
          },
          "execution_count": 16
        }
      ]
    },
    {
      "cell_type": "code",
      "metadata": {
        "id": "M_YIEfq_0aTk"
      },
      "source": [
        "model.compile(optimizer='adam', loss=loss_fn, metrics=['accuracy'])"
      ],
      "execution_count": 17,
      "outputs": []
    },
    {
      "cell_type": "code",
      "metadata": {
        "colab": {
          "base_uri": "https://localhost:8080/"
        },
        "id": "Jd0ml0y-0i4L",
        "outputId": "5aeb132d-5427-4697-db59-860b3eabf21d"
      },
      "source": [
        "model.fit(x_train, y_train, epochs=5)"
      ],
      "execution_count": 18,
      "outputs": [
        {
          "output_type": "stream",
          "text": [
            "Epoch 1/5\n",
            "1875/1875 [==============================] - 4s 2ms/step - loss: 0.2955 - accuracy: 0.9140\n",
            "Epoch 2/5\n",
            "1875/1875 [==============================] - 4s 2ms/step - loss: 0.1421 - accuracy: 0.9581\n",
            "Epoch 3/5\n",
            "1875/1875 [==============================] - 4s 2ms/step - loss: 0.1077 - accuracy: 0.9673\n",
            "Epoch 4/5\n",
            "1875/1875 [==============================] - 4s 2ms/step - loss: 0.0873 - accuracy: 0.9730\n",
            "Epoch 5/5\n",
            "1875/1875 [==============================] - 4s 2ms/step - loss: 0.0754 - accuracy: 0.9758\n"
          ],
          "name": "stdout"
        },
        {
          "output_type": "execute_result",
          "data": {
            "text/plain": [
              "<tensorflow.python.keras.callbacks.History at 0x7f8db4d2ccd0>"
            ]
          },
          "metadata": {
            "tags": []
          },
          "execution_count": 18
        }
      ]
    },
    {
      "cell_type": "code",
      "metadata": {
        "colab": {
          "base_uri": "https://localhost:8080/"
        },
        "id": "k6QlRbXE0m3-",
        "outputId": "2b05b492-350b-490b-ad14-18685ade5fc5"
      },
      "source": [
        "model.evaluate(x_test, y_test, verbose=2)"
      ],
      "execution_count": 20,
      "outputs": [
        {
          "output_type": "stream",
          "text": [
            "313/313 - 0s - loss: 0.0828 - accuracy: 0.9759\n"
          ],
          "name": "stdout"
        },
        {
          "output_type": "execute_result",
          "data": {
            "text/plain": [
              "[0.08281046152114868, 0.9758999943733215]"
            ]
          },
          "metadata": {
            "tags": []
          },
          "execution_count": 20
        }
      ]
    },
    {
      "cell_type": "code",
      "metadata": {
        "id": "67peEqNW0wjl"
      },
      "source": [
        "probability_model = tf.keras.Sequential(\n",
        "    [\n",
        "     model,\n",
        "     tf.keras.layers.Softmax(),\n",
        "    ]\n",
        ")"
      ],
      "execution_count": 21,
      "outputs": []
    },
    {
      "cell_type": "code",
      "metadata": {
        "colab": {
          "base_uri": "https://localhost:8080/"
        },
        "id": "o9n37HJr07Ab",
        "outputId": "38fc5720-fe0b-4229-e557-cf52588be95d"
      },
      "source": [
        "probability_model(x_test[:5])"
      ],
      "execution_count": 22,
      "outputs": [
        {
          "output_type": "execute_result",
          "data": {
            "text/plain": [
              "<tf.Tensor: shape=(5, 10), dtype=float32, numpy=\n",
              "array([[1.79915290e-07, 3.18904121e-08, 1.06507525e-06, 3.70122871e-05,\n",
              "        1.94827862e-10, 1.36900283e-07, 1.13191737e-13, 9.99957204e-01,\n",
              "        7.45322204e-09, 4.51373444e-06],\n",
              "       [1.93787155e-08, 5.49374745e-05, 9.99921679e-01, 2.23588086e-05,\n",
              "        7.13696748e-15, 7.53697009e-07, 1.42403476e-08, 1.65940815e-13,\n",
              "        2.67818166e-07, 1.27359857e-14],\n",
              "       [3.21459908e-07, 9.99746978e-01, 8.40895154e-06, 2.42871670e-06,\n",
              "        4.43440840e-05, 4.03824697e-06, 5.12729457e-06, 1.13473005e-04,\n",
              "        7.44750578e-05, 4.25984581e-07],\n",
              "       [9.99635696e-01, 5.36746168e-11, 3.14475968e-04, 3.30499302e-06,\n",
              "        2.22187296e-07, 1.39987333e-06, 1.97879053e-05, 2.39574933e-06,\n",
              "        2.98266855e-07, 2.23565075e-05],\n",
              "       [2.61513122e-07, 1.38107026e-09, 1.34884003e-05, 9.22957142e-08,\n",
              "        9.98786509e-01, 1.45686379e-08, 1.12935697e-06, 3.56211822e-05,\n",
              "        6.86592969e-08, 1.16281607e-03]], dtype=float32)>"
            ]
          },
          "metadata": {
            "tags": []
          },
          "execution_count": 22
        }
      ]
    },
    {
      "cell_type": "code",
      "metadata": {
        "id": "vD3ajq5O09Lo"
      },
      "source": [
        ""
      ],
      "execution_count": null,
      "outputs": []
    }
  ]
}