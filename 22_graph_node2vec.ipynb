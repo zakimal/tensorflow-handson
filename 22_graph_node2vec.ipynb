{
  "nbformat": 4,
  "nbformat_minor": 0,
  "metadata": {
    "colab": {
      "name": "22_graph_node2vec.ipynb",
      "provenance": []
    },
    "kernelspec": {
      "name": "python3",
      "display_name": "Python 3"
    },
    "language_info": {
      "name": "python"
    }
  },
  "cells": [
    {
      "cell_type": "code",
      "metadata": {
        "id": "ecAPDwQyy7fn"
      },
      "source": [
        "# graph representation learning w/ node2vec\n",
        "# グラフのトポロジを反映した頂点ごとのベクトルを求める問題\n",
        "# 頂点の特徴ベクトルを計算することでクラスタリングとかnode label predictionとかrecommendationとか\n",
        "# そういう任意のタスクに利用することができる\n",
        "# 特にnode2vecという手法が有名\n",
        "# \n",
        "# 1. Generate item sequences using (biased) random walk.\n",
        "# 2. Create positive and negative training examples from these sequences.\n",
        "# 3. Train a word2vec model (skip-gram) to learn embeddings for the items.\n",
        "# \n",
        "# random walkで頂点の系列を作って，それに対して自然言語処理界隈でのアイディアであるword2vecを実行する"
      ],
      "execution_count": 1,
      "outputs": []
    },
    {
      "cell_type": "code",
      "metadata": {
        "id": "2sbc1ivoz5gi"
      },
      "source": [
        "# setup"
      ],
      "execution_count": 2,
      "outputs": []
    },
    {
      "cell_type": "code",
      "metadata": {
        "colab": {
          "base_uri": "https://localhost:8080/"
        },
        "id": "fYd2Tzmhz8ok",
        "outputId": "fc965fdf-703c-4161-eefd-81495989ead3"
      },
      "source": [
        "!pip install networkx"
      ],
      "execution_count": 3,
      "outputs": [
        {
          "output_type": "stream",
          "text": [
            "Requirement already satisfied: networkx in /usr/local/lib/python3.7/dist-packages (2.5.1)\n",
            "Requirement already satisfied: decorator<5,>=4.3 in /usr/local/lib/python3.7/dist-packages (from networkx) (4.4.2)\n"
          ],
          "name": "stdout"
        }
      ]
    },
    {
      "cell_type": "code",
      "metadata": {
        "id": "0g5G2ayXz-l4"
      },
      "source": [
        "import os\n",
        "from collections import defaultdict\n",
        "import math\n",
        "import networkx as nx\n",
        "import random\n",
        "from tqdm import tqdm\n",
        "from zipfile import ZipFile\n",
        "from urllib.request import urlretrieve\n",
        "import numpy as np\n",
        "import pandas as pd\n",
        "import tensorflow as tf\n",
        "from tensorflow import keras\n",
        "from tensorflow.keras import layers\n",
        "import matplotlib.pyplot as plt"
      ],
      "execution_count": 4,
      "outputs": []
    },
    {
      "cell_type": "code",
      "metadata": {
        "id": "qTasoqJM0M8h"
      },
      "source": [
        "# download movielens dataset"
      ],
      "execution_count": 5,
      "outputs": []
    },
    {
      "cell_type": "code",
      "metadata": {
        "id": "BTYapgl-0dRN"
      },
      "source": [
        "urlretrieve(\n",
        "    \"http://files.grouplens.org/datasets/movielens/ml-latest-small.zip\", \"movielens.zip\"\n",
        ")\n",
        "ZipFile(\"movielens.zip\", \"r\").extractall()"
      ],
      "execution_count": 6,
      "outputs": []
    },
    {
      "cell_type": "code",
      "metadata": {
        "colab": {
          "base_uri": "https://localhost:8080/"
        },
        "id": "KkRQE0Xb0drx",
        "outputId": "89e180b6-eb5e-40fa-fc0a-797acd0cdc5e"
      },
      "source": [
        "# Load movies to a DataFrame.\n",
        "movies = pd.read_csv(\"ml-latest-small/movies.csv\")\n",
        "# Create a `movieId` string.\n",
        "movies[\"movieId\"] = movies[\"movieId\"].apply(lambda x: f\"movie_{x}\")\n",
        "\n",
        "# Load ratings to a DataFrame.\n",
        "ratings = pd.read_csv(\"ml-latest-small/ratings.csv\")\n",
        "# Convert the `ratings` to floating point\n",
        "ratings[\"rating\"] = ratings[\"rating\"].apply(lambda x: float(x))\n",
        "# Create the `movie_id` string.\n",
        "ratings[\"movieId\"] = ratings[\"movieId\"].apply(lambda x: f\"movie_{x}\")\n",
        "\n",
        "print(\"Movies data shape:\", movies.shape)\n",
        "print(\"Ratings data shape:\", ratings.shape)"
      ],
      "execution_count": 7,
      "outputs": [
        {
          "output_type": "stream",
          "text": [
            "Movies data shape: (9742, 3)\n",
            "Ratings data shape: (100836, 4)\n"
          ],
          "name": "stdout"
        }
      ]
    },
    {
      "cell_type": "code",
      "metadata": {
        "colab": {
          "base_uri": "https://localhost:8080/",
          "height": 419
        },
        "id": "PcB0j-g-0iN8",
        "outputId": "0baa4e4d-e927-4d0c-f6ea-4d81f8762f60"
      },
      "source": [
        "movies"
      ],
      "execution_count": 8,
      "outputs": [
        {
          "output_type": "execute_result",
          "data": {
            "text/html": [
              "<div>\n",
              "<style scoped>\n",
              "    .dataframe tbody tr th:only-of-type {\n",
              "        vertical-align: middle;\n",
              "    }\n",
              "\n",
              "    .dataframe tbody tr th {\n",
              "        vertical-align: top;\n",
              "    }\n",
              "\n",
              "    .dataframe thead th {\n",
              "        text-align: right;\n",
              "    }\n",
              "</style>\n",
              "<table border=\"1\" class=\"dataframe\">\n",
              "  <thead>\n",
              "    <tr style=\"text-align: right;\">\n",
              "      <th></th>\n",
              "      <th>movieId</th>\n",
              "      <th>title</th>\n",
              "      <th>genres</th>\n",
              "    </tr>\n",
              "  </thead>\n",
              "  <tbody>\n",
              "    <tr>\n",
              "      <th>0</th>\n",
              "      <td>movie_1</td>\n",
              "      <td>Toy Story (1995)</td>\n",
              "      <td>Adventure|Animation|Children|Comedy|Fantasy</td>\n",
              "    </tr>\n",
              "    <tr>\n",
              "      <th>1</th>\n",
              "      <td>movie_2</td>\n",
              "      <td>Jumanji (1995)</td>\n",
              "      <td>Adventure|Children|Fantasy</td>\n",
              "    </tr>\n",
              "    <tr>\n",
              "      <th>2</th>\n",
              "      <td>movie_3</td>\n",
              "      <td>Grumpier Old Men (1995)</td>\n",
              "      <td>Comedy|Romance</td>\n",
              "    </tr>\n",
              "    <tr>\n",
              "      <th>3</th>\n",
              "      <td>movie_4</td>\n",
              "      <td>Waiting to Exhale (1995)</td>\n",
              "      <td>Comedy|Drama|Romance</td>\n",
              "    </tr>\n",
              "    <tr>\n",
              "      <th>4</th>\n",
              "      <td>movie_5</td>\n",
              "      <td>Father of the Bride Part II (1995)</td>\n",
              "      <td>Comedy</td>\n",
              "    </tr>\n",
              "    <tr>\n",
              "      <th>...</th>\n",
              "      <td>...</td>\n",
              "      <td>...</td>\n",
              "      <td>...</td>\n",
              "    </tr>\n",
              "    <tr>\n",
              "      <th>9737</th>\n",
              "      <td>movie_193581</td>\n",
              "      <td>Black Butler: Book of the Atlantic (2017)</td>\n",
              "      <td>Action|Animation|Comedy|Fantasy</td>\n",
              "    </tr>\n",
              "    <tr>\n",
              "      <th>9738</th>\n",
              "      <td>movie_193583</td>\n",
              "      <td>No Game No Life: Zero (2017)</td>\n",
              "      <td>Animation|Comedy|Fantasy</td>\n",
              "    </tr>\n",
              "    <tr>\n",
              "      <th>9739</th>\n",
              "      <td>movie_193585</td>\n",
              "      <td>Flint (2017)</td>\n",
              "      <td>Drama</td>\n",
              "    </tr>\n",
              "    <tr>\n",
              "      <th>9740</th>\n",
              "      <td>movie_193587</td>\n",
              "      <td>Bungo Stray Dogs: Dead Apple (2018)</td>\n",
              "      <td>Action|Animation</td>\n",
              "    </tr>\n",
              "    <tr>\n",
              "      <th>9741</th>\n",
              "      <td>movie_193609</td>\n",
              "      <td>Andrew Dice Clay: Dice Rules (1991)</td>\n",
              "      <td>Comedy</td>\n",
              "    </tr>\n",
              "  </tbody>\n",
              "</table>\n",
              "<p>9742 rows × 3 columns</p>\n",
              "</div>"
            ],
            "text/plain": [
              "           movieId  ...                                       genres\n",
              "0          movie_1  ...  Adventure|Animation|Children|Comedy|Fantasy\n",
              "1          movie_2  ...                   Adventure|Children|Fantasy\n",
              "2          movie_3  ...                               Comedy|Romance\n",
              "3          movie_4  ...                         Comedy|Drama|Romance\n",
              "4          movie_5  ...                                       Comedy\n",
              "...            ...  ...                                          ...\n",
              "9737  movie_193581  ...              Action|Animation|Comedy|Fantasy\n",
              "9738  movie_193583  ...                     Animation|Comedy|Fantasy\n",
              "9739  movie_193585  ...                                        Drama\n",
              "9740  movie_193587  ...                             Action|Animation\n",
              "9741  movie_193609  ...                                       Comedy\n",
              "\n",
              "[9742 rows x 3 columns]"
            ]
          },
          "metadata": {
            "tags": []
          },
          "execution_count": 8
        }
      ]
    },
    {
      "cell_type": "code",
      "metadata": {
        "colab": {
          "base_uri": "https://localhost:8080/",
          "height": 419
        },
        "id": "DNmxIYJq0i0-",
        "outputId": "0d2106c2-d2fd-4ea4-97b4-ce0822fc0e08"
      },
      "source": [
        "ratings"
      ],
      "execution_count": 9,
      "outputs": [
        {
          "output_type": "execute_result",
          "data": {
            "text/html": [
              "<div>\n",
              "<style scoped>\n",
              "    .dataframe tbody tr th:only-of-type {\n",
              "        vertical-align: middle;\n",
              "    }\n",
              "\n",
              "    .dataframe tbody tr th {\n",
              "        vertical-align: top;\n",
              "    }\n",
              "\n",
              "    .dataframe thead th {\n",
              "        text-align: right;\n",
              "    }\n",
              "</style>\n",
              "<table border=\"1\" class=\"dataframe\">\n",
              "  <thead>\n",
              "    <tr style=\"text-align: right;\">\n",
              "      <th></th>\n",
              "      <th>userId</th>\n",
              "      <th>movieId</th>\n",
              "      <th>rating</th>\n",
              "      <th>timestamp</th>\n",
              "    </tr>\n",
              "  </thead>\n",
              "  <tbody>\n",
              "    <tr>\n",
              "      <th>0</th>\n",
              "      <td>1</td>\n",
              "      <td>movie_1</td>\n",
              "      <td>4.0</td>\n",
              "      <td>964982703</td>\n",
              "    </tr>\n",
              "    <tr>\n",
              "      <th>1</th>\n",
              "      <td>1</td>\n",
              "      <td>movie_3</td>\n",
              "      <td>4.0</td>\n",
              "      <td>964981247</td>\n",
              "    </tr>\n",
              "    <tr>\n",
              "      <th>2</th>\n",
              "      <td>1</td>\n",
              "      <td>movie_6</td>\n",
              "      <td>4.0</td>\n",
              "      <td>964982224</td>\n",
              "    </tr>\n",
              "    <tr>\n",
              "      <th>3</th>\n",
              "      <td>1</td>\n",
              "      <td>movie_47</td>\n",
              "      <td>5.0</td>\n",
              "      <td>964983815</td>\n",
              "    </tr>\n",
              "    <tr>\n",
              "      <th>4</th>\n",
              "      <td>1</td>\n",
              "      <td>movie_50</td>\n",
              "      <td>5.0</td>\n",
              "      <td>964982931</td>\n",
              "    </tr>\n",
              "    <tr>\n",
              "      <th>...</th>\n",
              "      <td>...</td>\n",
              "      <td>...</td>\n",
              "      <td>...</td>\n",
              "      <td>...</td>\n",
              "    </tr>\n",
              "    <tr>\n",
              "      <th>100831</th>\n",
              "      <td>610</td>\n",
              "      <td>movie_166534</td>\n",
              "      <td>4.0</td>\n",
              "      <td>1493848402</td>\n",
              "    </tr>\n",
              "    <tr>\n",
              "      <th>100832</th>\n",
              "      <td>610</td>\n",
              "      <td>movie_168248</td>\n",
              "      <td>5.0</td>\n",
              "      <td>1493850091</td>\n",
              "    </tr>\n",
              "    <tr>\n",
              "      <th>100833</th>\n",
              "      <td>610</td>\n",
              "      <td>movie_168250</td>\n",
              "      <td>5.0</td>\n",
              "      <td>1494273047</td>\n",
              "    </tr>\n",
              "    <tr>\n",
              "      <th>100834</th>\n",
              "      <td>610</td>\n",
              "      <td>movie_168252</td>\n",
              "      <td>5.0</td>\n",
              "      <td>1493846352</td>\n",
              "    </tr>\n",
              "    <tr>\n",
              "      <th>100835</th>\n",
              "      <td>610</td>\n",
              "      <td>movie_170875</td>\n",
              "      <td>3.0</td>\n",
              "      <td>1493846415</td>\n",
              "    </tr>\n",
              "  </tbody>\n",
              "</table>\n",
              "<p>100836 rows × 4 columns</p>\n",
              "</div>"
            ],
            "text/plain": [
              "        userId       movieId  rating   timestamp\n",
              "0            1       movie_1     4.0   964982703\n",
              "1            1       movie_3     4.0   964981247\n",
              "2            1       movie_6     4.0   964982224\n",
              "3            1      movie_47     5.0   964983815\n",
              "4            1      movie_50     5.0   964982931\n",
              "...        ...           ...     ...         ...\n",
              "100831     610  movie_166534     4.0  1493848402\n",
              "100832     610  movie_168248     5.0  1493850091\n",
              "100833     610  movie_168250     5.0  1494273047\n",
              "100834     610  movie_168252     5.0  1493846352\n",
              "100835     610  movie_170875     3.0  1493846415\n",
              "\n",
              "[100836 rows x 4 columns]"
            ]
          },
          "metadata": {
            "tags": []
          },
          "execution_count": 9
        }
      ]
    },
    {
      "cell_type": "code",
      "metadata": {
        "id": "dcgJrDkF0j0Q"
      },
      "source": [
        "def get_movie_title_by_id(movieId):\n",
        "    return list(movies[movies.movieId == movieId].title)[0]\n",
        "\n",
        "\n",
        "def get_movie_id_by_title(title):\n",
        "    return list(movies[movies.title == title].movieId)[0]"
      ],
      "execution_count": 10,
      "outputs": []
    },
    {
      "cell_type": "code",
      "metadata": {
        "id": "43CvdfyZ0qbi"
      },
      "source": [
        "# construct graph\n",
        "# - 頂点は「映画」\n",
        "# - あるユーザが映画Aと映画Bの両方に評価を与えていたらAとBの間に辺を張る\n",
        "# - 辺の重さはpointwise mutal informationで与える\n",
        "# - 辺の重さ := log(xy) - log(x) - log(y) + log(D)\n",
        "#   - xy: 映画xと映画yの両方にmin_rating以上の評価を与えたユーザ数\n",
        "#   - x : 映画xにmin_rating以上の評価を与えたユーザ数\n",
        "#   - y : 映画yにmin_rating以上の評価を与えたユーザ数\n",
        "#   - D : min_rating以上の評価を与えられた映画の総数"
      ],
      "execution_count": 11,
      "outputs": []
    },
    {
      "cell_type": "code",
      "metadata": {
        "colab": {
          "base_uri": "https://localhost:8080/"
        },
        "id": "HGBXC6u82cQT",
        "outputId": "49c36b11-2b7e-421e-8396-3917455cd4b1"
      },
      "source": [
        "min_rating = 5\n",
        "pair_frequency = defaultdict(int)\n",
        "item_frequency = defaultdict(int)\n",
        "\n",
        "# Filter instances where rating is greater than or equal to min_rating.\n",
        "rated_movies = ratings[ratings.rating >= min_rating]\n",
        "# Group instances by user.\n",
        "movies_grouped_by_users = list(rated_movies.groupby(\"userId\"))\n",
        "for group in tqdm(\n",
        "    movies_grouped_by_users,\n",
        "    position=0,\n",
        "    leave=True,\n",
        "    desc=\"Compute movie rating frequencies\",\n",
        "):\n",
        "    # Get a list of movies rated by the user.\n",
        "    current_movies = list(group[1][\"movieId\"])\n",
        "\n",
        "    for i in range(len(current_movies)):\n",
        "        item_frequency[current_movies[i]] += 1\n",
        "        for j in range(i + 1, len(current_movies)):\n",
        "            x = min(current_movies[i], current_movies[j])\n",
        "            y = max(current_movies[i], current_movies[j])\n",
        "            pair_frequency[(x, y)] += 1"
      ],
      "execution_count": 12,
      "outputs": [
        {
          "output_type": "stream",
          "text": [
            "Compute movie rating frequencies: 100%|██████████| 573/573 [00:00<00:00, 871.81it/s]\n"
          ],
          "name": "stderr"
        }
      ]
    },
    {
      "cell_type": "code",
      "metadata": {
        "colab": {
          "base_uri": "https://localhost:8080/"
        },
        "id": "v7I--NTE26mt",
        "outputId": "be834a6c-f616-40a7-e58b-399e6ac69a7b"
      },
      "source": [
        "min_weight = 10\n",
        "D = math.log(sum(item_frequency.values()))\n",
        "\n",
        "# Create the movies undirected graph.\n",
        "movies_graph = nx.Graph()\n",
        "# Add weighted edges between movies.\n",
        "# This automatically adds the movie nodes to the graph.\n",
        "for pair in tqdm(\n",
        "    pair_frequency, position=0, leave=True, desc=\"Creating the movie graph\"\n",
        "):\n",
        "    x, y = pair\n",
        "    xy_frequency = pair_frequency[pair]\n",
        "    x_frequency = item_frequency[x]\n",
        "    y_frequency = item_frequency[y]\n",
        "    pmi = math.log(xy_frequency) - math.log(x_frequency) - math.log(y_frequency) + D\n",
        "    weight = pmi * xy_frequency\n",
        "    # Only include edges with weight >= min_weight.\n",
        "    if weight >= min_weight:\n",
        "        movies_graph.add_edge(x, y, weight=weight)"
      ],
      "execution_count": 14,
      "outputs": [
        {
          "output_type": "stream",
          "text": [
            "Creating the movie graph: 100%|██████████| 298586/298586 [00:00<00:00, 479457.58it/s]\n"
          ],
          "name": "stderr"
        }
      ]
    },
    {
      "cell_type": "code",
      "metadata": {
        "colab": {
          "base_uri": "https://localhost:8080/"
        },
        "id": "uSnWdLeN3GDD",
        "outputId": "84505790-870a-41fe-b817-3c3227fc6962"
      },
      "source": [
        "print(\"Total number of graph nodes:\", movies_graph.number_of_nodes())\n",
        "print(\"Total number of graph edges:\", movies_graph.number_of_edges())"
      ],
      "execution_count": 15,
      "outputs": [
        {
          "output_type": "stream",
          "text": [
            "Total number of graph nodes: 1405\n",
            "Total number of graph edges: 40043\n"
          ],
          "name": "stdout"
        }
      ]
    },
    {
      "cell_type": "code",
      "metadata": {
        "colab": {
          "base_uri": "https://localhost:8080/"
        },
        "id": "qOq6yb-R3az8",
        "outputId": "04ef69fe-8c10-4060-8869-1afb9444fa3e"
      },
      "source": [
        "degrees = []\n",
        "for node in movies_graph.nodes:\n",
        "    degrees.append(movies_graph.degree[node])\n",
        "\n",
        "print(\"Average node degree:\", round(sum(degrees) / len(degrees), 2))"
      ],
      "execution_count": 16,
      "outputs": [
        {
          "output_type": "stream",
          "text": [
            "Average node degree: 57.0\n"
          ],
          "name": "stdout"
        }
      ]
    },
    {
      "cell_type": "code",
      "metadata": {
        "id": "94X0YTM-3i2o"
      },
      "source": [
        "vocabulary = [\"NA\"] + list(movies_graph.nodes)\n",
        "vocabulary_lookup = {token: idx for idx, token in enumerate(vocabulary)}"
      ],
      "execution_count": 17,
      "outputs": []
    },
    {
      "cell_type": "code",
      "metadata": {
        "id": "bqkIErtq3sx6"
      },
      "source": [
        "# biased random walk\n",
        "# random walk: 確率的に次々と頂点を訪れ頂点の系列を取る操作\n",
        "# 固定長num_stepsの系列を取る\n",
        "# biased random walk: return parameterとin-out parameterを使ってBFSとDFSの間のような挙動をする\n",
        "#   - return parameter `p`: 小さい値であればあるほどBFSぽさが増す\n",
        "#   - in-out parameter `q`: 小さい値であればあるほどDFSぽさが増す"
      ],
      "execution_count": 18,
      "outputs": []
    },
    {
      "cell_type": "code",
      "metadata": {
        "id": "XEBrcnuB9kVf"
      },
      "source": [
        "def next_step(graph, previous, current, p, q):\n",
        "    neighbors = list(graph.neighbors(current))\n",
        "\n",
        "    weights = []\n",
        "    # Adjust the weights of the edges to the neighbors with respect to p and q.\n",
        "    for neighbor in neighbors:\n",
        "        if neighbor == previous:\n",
        "            # Control the probability to return to the previous node.\n",
        "            weights.append(graph[current][neighbor][\"weight\"] / p)\n",
        "        elif graph.has_edge(neighbor, previous):\n",
        "            # The probability of visiting a local node.\n",
        "            weights.append(graph[current][neighbor][\"weight\"])\n",
        "        else:\n",
        "            # Control the probability to move forward.\n",
        "            weights.append(graph[current][neighbor][\"weight\"] / q)\n",
        "\n",
        "    # Compute the probabilities of visiting each neighbor.\n",
        "    weight_sum = sum(weights)\n",
        "    probabilities = [weight / weight_sum for weight in weights]\n",
        "    # Probabilistically select a neighbor to visit.\n",
        "    next = np.random.choice(neighbors, size=1, p=probabilities)[0]\n",
        "    return next\n",
        "\n",
        "\n",
        "def random_walk(graph, num_walks, num_steps, p, q):\n",
        "    walks = []\n",
        "    nodes = list(graph.nodes())\n",
        "    # Perform multiple iterations of the random walk.\n",
        "    for walk_iteration in range(num_walks):\n",
        "        random.shuffle(nodes)\n",
        "\n",
        "        for node in tqdm(\n",
        "            nodes,\n",
        "            position=0,\n",
        "            leave=True,\n",
        "            desc=f\"Random walks iteration {walk_iteration + 1} of {num_walks}\",\n",
        "        ):\n",
        "            # Start the walk with a random node from the graph.\n",
        "            walk = [node]\n",
        "            # Randomly walk for num_steps.\n",
        "            while len(walk) < num_steps:\n",
        "                current = walk[-1]\n",
        "                previous = walk[-2] if len(walk) > 1 else None\n",
        "                # Compute the next node to visit.\n",
        "                next = next_step(graph, previous, current, p, q)\n",
        "                walk.append(next)\n",
        "            # Replace node ids (movie ids) in the walk with token ids.\n",
        "            walk = [vocabulary_lookup[token] for token in walk]\n",
        "            # Add the walk to the generated sequence.\n",
        "            walks.append(walk)\n",
        "\n",
        "    return walks"
      ],
      "execution_count": 19,
      "outputs": []
    },
    {
      "cell_type": "code",
      "metadata": {
        "colab": {
          "base_uri": "https://localhost:8080/"
        },
        "id": "6qYErRd_9u0_",
        "outputId": "ed88ba60-676a-4346-dff9-10822f9b21a5"
      },
      "source": [
        "# Random walk return parameter.\n",
        "p = 1\n",
        "# Random walk in-out parameter.\n",
        "q = 1\n",
        "# Number of iterations of random walks.\n",
        "num_walks = 5\n",
        "# Number of steps of each random walk.\n",
        "num_steps = 10\n",
        "walks = random_walk(movies_graph, num_walks, num_steps, p, q)\n",
        "\n",
        "print(\"Number of walks generated:\", len(walks))"
      ],
      "execution_count": 20,
      "outputs": [
        {
          "output_type": "stream",
          "text": [
            "Random walks iteration 1 of 5: 100%|██████████| 1405/1405 [00:07<00:00, 184.47it/s]\n",
            "Random walks iteration 2 of 5: 100%|██████████| 1405/1405 [00:07<00:00, 186.09it/s]\n",
            "Random walks iteration 3 of 5: 100%|██████████| 1405/1405 [00:07<00:00, 183.02it/s]\n",
            "Random walks iteration 4 of 5: 100%|██████████| 1405/1405 [00:07<00:00, 189.07it/s]\n",
            "Random walks iteration 5 of 5: 100%|██████████| 1405/1405 [00:07<00:00, 185.90it/s]"
          ],
          "name": "stderr"
        },
        {
          "output_type": "stream",
          "text": [
            "Number of walks generated: 7025\n"
          ],
          "name": "stdout"
        },
        {
          "output_type": "stream",
          "text": [
            "\n"
          ],
          "name": "stderr"
        }
      ]
    },
    {
      "cell_type": "code",
      "metadata": {
        "colab": {
          "base_uri": "https://localhost:8080/"
        },
        "id": "Zz1I8Zab-T_t",
        "outputId": "b2e78841-2728-45ec-f872-99ac1257d2f8"
      },
      "source": [
        "def generate_examples(sequences, window_size, num_negative_samples, vocabulary_size):\n",
        "    example_weights = defaultdict(int)\n",
        "    # Iterate over all sequences (walks).\n",
        "    for sequence in tqdm(\n",
        "        sequences,\n",
        "        position=0,\n",
        "        leave=True,\n",
        "        desc=f\"Generating postive and negative examples\",\n",
        "    ):\n",
        "        # Generate positive and negative skip-gram pairs for a sequence (walk).\n",
        "        pairs, labels = keras.preprocessing.sequence.skipgrams(\n",
        "            sequence,\n",
        "            vocabulary_size=vocabulary_size,\n",
        "            window_size=window_size,\n",
        "            negative_samples=num_negative_samples,\n",
        "        )\n",
        "        for idx in range(len(pairs)):\n",
        "            pair = pairs[idx]\n",
        "            label = labels[idx]\n",
        "            target, context = min(pair[0], pair[1]), max(pair[0], pair[1])\n",
        "            if target == context:\n",
        "                continue\n",
        "            entry = (target, context, label)\n",
        "            example_weights[entry] += 1\n",
        "\n",
        "    targets, contexts, labels, weights = [], [], [], []\n",
        "    for entry in example_weights:\n",
        "        weight = example_weights[entry]\n",
        "        target, context, label = entry\n",
        "        targets.append(target)\n",
        "        contexts.append(context)\n",
        "        labels.append(label)\n",
        "        weights.append(weight)\n",
        "\n",
        "    return np.array(targets), np.array(contexts), np.array(labels), np.array(weights)\n",
        "\n",
        "\n",
        "num_negative_samples = 4\n",
        "targets, contexts, labels, weights = generate_examples(\n",
        "    sequences=walks,\n",
        "    window_size=num_steps,\n",
        "    num_negative_samples=num_negative_samples,\n",
        "    vocabulary_size=len(vocabulary),\n",
        ")"
      ],
      "execution_count": 21,
      "outputs": [
        {
          "output_type": "stream",
          "text": [
            "Generating postive and negative examples: 100%|██████████| 7025/7025 [00:15<00:00, 456.04it/s]\n"
          ],
          "name": "stderr"
        }
      ]
    },
    {
      "cell_type": "code",
      "metadata": {
        "colab": {
          "base_uri": "https://localhost:8080/"
        },
        "id": "UDLtscdD-iU6",
        "outputId": "31f84be1-0536-4633-b5eb-4829c449f313"
      },
      "source": [
        "print(f\"Targets shape: {targets.shape}\")\n",
        "print(f\"Contexts shape: {contexts.shape}\")\n",
        "print(f\"Labels shape: {labels.shape}\")\n",
        "print(f\"Weights shape: {weights.shape}\")"
      ],
      "execution_count": 22,
      "outputs": [
        {
          "output_type": "stream",
          "text": [
            "Targets shape: (882597,)\n",
            "Contexts shape: (882597,)\n",
            "Labels shape: (882597,)\n",
            "Weights shape: (882597,)\n"
          ],
          "name": "stdout"
        }
      ]
    },
    {
      "cell_type": "code",
      "metadata": {
        "id": "E-09TVQB-ncP"
      },
      "source": [
        "batch_size = 1024\n",
        "\n",
        "\n",
        "def create_dataset(targets, contexts, labels, weights, batch_size):\n",
        "    inputs = {\n",
        "        \"target\": targets,\n",
        "        \"context\": contexts,\n",
        "    }\n",
        "    dataset = tf.data.Dataset.from_tensor_slices((inputs, labels, weights))\n",
        "    dataset = dataset.shuffle(buffer_size=batch_size * 2)\n",
        "    dataset = dataset.batch(batch_size, drop_remainder=True)\n",
        "    dataset = dataset.prefetch(tf.data.AUTOTUNE)\n",
        "    return dataset\n",
        "\n",
        "\n",
        "dataset = create_dataset(\n",
        "    targets=targets,\n",
        "    contexts=contexts,\n",
        "    labels=labels,\n",
        "    weights=weights,\n",
        "    batch_size=batch_size,\n",
        ")"
      ],
      "execution_count": 23,
      "outputs": []
    },
    {
      "cell_type": "code",
      "metadata": {
        "id": "ls4RNV0j-pyK"
      },
      "source": [
        "learning_rate = 0.001\n",
        "embedding_dim = 50\n",
        "num_epochs = 10"
      ],
      "execution_count": 24,
      "outputs": []
    },
    {
      "cell_type": "code",
      "metadata": {
        "id": "j9baFnBv-sKw"
      },
      "source": [
        "def create_model(vocabulary_size, embedding_dim):\n",
        "\n",
        "    inputs = {\n",
        "        \"target\": layers.Input(name=\"target\", shape=(), dtype=\"int32\"),\n",
        "        \"context\": layers.Input(name=\"context\", shape=(), dtype=\"int32\"),\n",
        "    }\n",
        "    # Initialize item embeddings.\n",
        "    embed_item = layers.Embedding(\n",
        "        input_dim=vocabulary_size,\n",
        "        output_dim=embedding_dim,\n",
        "        embeddings_initializer=\"he_normal\",\n",
        "        embeddings_regularizer=keras.regularizers.l2(1e-6),\n",
        "        name=\"item_embeddings\",\n",
        "    )\n",
        "    # Lookup embeddings for target.\n",
        "    target_embeddings = embed_item(inputs[\"target\"])\n",
        "    # Lookup embeddings for context.\n",
        "    context_embeddings = embed_item(inputs[\"context\"])\n",
        "    # Compute dot similarity between target and context embeddings.\n",
        "    logits = layers.Dot(axes=1, normalize=False, name=\"dot_similarity\")(\n",
        "        [target_embeddings, context_embeddings]\n",
        "    )\n",
        "    # Create the model.\n",
        "    model = keras.Model(inputs=inputs, outputs=logits)\n",
        "    return model"
      ],
      "execution_count": 25,
      "outputs": []
    },
    {
      "cell_type": "code",
      "metadata": {
        "id": "UXZXoDda_a3L"
      },
      "source": [
        "model = create_model(len(vocabulary), embedding_dim)\n",
        "model.compile(\n",
        "    optimizer=keras.optimizers.Adam(learning_rate),\n",
        "    loss=keras.losses.BinaryCrossentropy(from_logits=True),\n",
        ")"
      ],
      "execution_count": 26,
      "outputs": []
    },
    {
      "cell_type": "code",
      "metadata": {
        "colab": {
          "base_uri": "https://localhost:8080/",
          "height": 312
        },
        "id": "M2MbOls5_bhb",
        "outputId": "75072277-562c-400d-8180-dde34db42069"
      },
      "source": [
        "keras.utils.plot_model(\n",
        "    model, show_shapes=True, show_dtype=True, show_layer_names=True,\n",
        ")"
      ],
      "execution_count": 27,
      "outputs": [
        {
          "output_type": "execute_result",
          "data": {
            "image/png": "[encoded data removed]",
            "text/plain": [
              "<IPython.core.display.Image object>"
            ]
          },
          "metadata": {
            "tags": []
          },
          "execution_count": 27
        }
      ]
    },
    {
      "cell_type": "code",
      "metadata": {
        "colab": {
          "base_uri": "https://localhost:8080/"
        },
        "id": "zIaM-6tt_d5y",
        "outputId": "e43fe407-51c0-4c8f-fafb-5de86b430f1a"
      },
      "source": [
        "history = model.fit(dataset, epochs=num_epochs)"
      ],
      "execution_count": 28,
      "outputs": [
        {
          "output_type": "stream",
          "text": [
            "Epoch 1/10\n",
            "861/861 [==============================] - 4s 3ms/step - loss: 2.4517\n",
            "Epoch 2/10\n",
            "861/861 [==============================] - 3s 4ms/step - loss: 2.3418\n",
            "Epoch 3/10\n",
            "861/861 [==============================] - 3s 4ms/step - loss: 2.3338\n",
            "Epoch 4/10\n",
            "861/861 [==============================] - 3s 4ms/step - loss: 2.3300\n",
            "Epoch 5/10\n",
            "861/861 [==============================] - 3s 4ms/step - loss: 2.3261\n",
            "Epoch 6/10\n",
            "861/861 [==============================] - 3s 4ms/step - loss: 2.3217\n",
            "Epoch 7/10\n",
            "861/861 [==============================] - 3s 4ms/step - loss: 2.3179\n",
            "Epoch 8/10\n",
            "861/861 [==============================] - 3s 4ms/step - loss: 2.3149\n",
            "Epoch 9/10\n",
            "861/861 [==============================] - 3s 4ms/step - loss: 2.3123\n",
            "Epoch 10/10\n",
            "861/861 [==============================] - 3s 4ms/step - loss: 2.3099\n"
          ],
          "name": "stdout"
        }
      ]
    },
    {
      "cell_type": "code",
      "metadata": {
        "colab": {
          "base_uri": "https://localhost:8080/",
          "height": 279
        },
        "id": "6-o7_H6w_gQR",
        "outputId": "9d0bf00a-eecd-4820-d4cc-7dcf6d46a1dc"
      },
      "source": [
        "plt.plot(history.history[\"loss\"])\n",
        "plt.ylabel(\"loss\")\n",
        "plt.xlabel(\"epoch\")\n",
        "plt.show()"
      ],
      "execution_count": 29,
      "outputs": [
        {
          "output_type": "display_data",
          "data": {
            "image/png": "[encoded data removed]",
            "text/plain": [
              "<Figure size 432x288 with 1 Axes>"
            ]
          },
          "metadata": {
            "tags": [],
            "needs_background": "light"
          }
        }
      ]
    },
    {
      "cell_type": "code",
      "metadata": {
        "colab": {
          "base_uri": "https://localhost:8080/"
        },
        "id": "NrnLmfKQ_iqx",
        "outputId": "8e6aa3aa-094c-47d4-9f4f-035746f4daf6"
      },
      "source": [
        "movie_embeddings = model.get_layer(\"item_embeddings\").get_weights()[0]\n",
        "print(\"Embeddings shape:\", movie_embeddings.shape)"
      ],
      "execution_count": 30,
      "outputs": [
        {
          "output_type": "stream",
          "text": [
            "Embeddings shape: (1406, 50)\n"
          ],
          "name": "stdout"
        }
      ]
    },
    {
      "cell_type": "code",
      "metadata": {
        "id": "DizewK34_ld6"
      },
      "source": [
        "query_movies = [\n",
        "    \"Matrix, The (1999)\",\n",
        "    \"Star Wars: Episode IV - A New Hope (1977)\",\n",
        "    \"Lion King, The (1994)\",\n",
        "    \"Terminator 2: Judgment Day (1991)\",\n",
        "    \"Godfather, The (1972)\",\n",
        "]"
      ],
      "execution_count": 31,
      "outputs": []
    },
    {
      "cell_type": "code",
      "metadata": {
        "id": "Ycb-SCE9_yCv"
      },
      "source": [
        "query_embeddings = []\n",
        "\n",
        "for movie_title in query_movies:\n",
        "    movieId = get_movie_id_by_title(movie_title)\n",
        "    token_id = vocabulary_lookup[movieId]\n",
        "    movie_embedding = movie_embeddings[token_id]\n",
        "    query_embeddings.append(movie_embedding)\n",
        "\n",
        "query_embeddings = np.array(query_embeddings)"
      ],
      "execution_count": 33,
      "outputs": []
    },
    {
      "cell_type": "code",
      "metadata": {
        "id": "PjovBHqZ_nRO"
      },
      "source": [
        "similarities = tf.linalg.matmul(\n",
        "    tf.math.l2_normalize(query_embeddings),\n",
        "    tf.math.l2_normalize(movie_embeddings),\n",
        "    transpose_b=True,\n",
        ")\n",
        "\n",
        "_, indices = tf.math.top_k(similarities, k=5)\n",
        "indices = indices.numpy().tolist()"
      ],
      "execution_count": 34,
      "outputs": []
    },
    {
      "cell_type": "code",
      "metadata": {
        "colab": {
          "base_uri": "https://localhost:8080/"
        },
        "id": "dgskxAZ7_peM",
        "outputId": "5eed2402-6a11-4179-86a0-e71bac7fbd3b"
      },
      "source": [
        "for idx, title in enumerate(query_movies):\n",
        "    print(title)\n",
        "    print(\"\".rjust(len(title), \"-\"))\n",
        "    similar_tokens = indices[idx]\n",
        "    for token in similar_tokens:\n",
        "        similar_movieId = vocabulary[token]\n",
        "        similar_title = get_movie_title_by_id(similar_movieId)\n",
        "        print(f\"- {similar_title}\")\n",
        "    print()"
      ],
      "execution_count": 35,
      "outputs": [
        {
          "output_type": "stream",
          "text": [
            "Matrix, The (1999)\n",
            "------------------\n",
            "- Matrix, The (1999)\n",
            "- Lord of the Rings: The Fellowship of the Ring, The (2001)\n",
            "- Fight Club (1999)\n",
            "- Lord of the Rings: The Return of the King, The (2003)\n",
            "- Star Wars: Episode IV - A New Hope (1977)\n",
            "\n",
            "Star Wars: Episode IV - A New Hope (1977)\n",
            "-----------------------------------------\n",
            "- Star Wars: Episode IV - A New Hope (1977)\n",
            "- Matrix, The (1999)\n",
            "- Raiders of the Lost Ark (Indiana Jones and the Raiders of the Lost Ark) (1981)\n",
            "- Forrest Gump (1994)\n",
            "- Star Wars: Episode VI - Return of the Jedi (1983)\n",
            "\n",
            "Lion King, The (1994)\n",
            "---------------------\n",
            "- Lion King, The (1994)\n",
            "- Beauty and the Beast (1991)\n",
            "- Apollo 13 (1995)\n",
            "- Mrs. Doubtfire (1993)\n",
            "- Jurassic Park (1993)\n",
            "\n",
            "Terminator 2: Judgment Day (1991)\n",
            "---------------------------------\n",
            "- Terminator 2: Judgment Day (1991)\n",
            "- Forrest Gump (1994)\n",
            "- Braveheart (1995)\n",
            "- Star Wars: Episode IV - A New Hope (1977)\n",
            "- Raiders of the Lost Ark (Indiana Jones and the Raiders of the Lost Ark) (1981)\n",
            "\n",
            "Godfather, The (1972)\n",
            "---------------------\n",
            "- Godfather, The (1972)\n",
            "- Godfather: Part II, The (1974)\n",
            "- Matrix, The (1999)\n",
            "- Reservoir Dogs (1992)\n",
            "- Apocalypse Now (1979)\n",
            "\n"
          ],
          "name": "stdout"
        }
      ]
    },
    {
      "cell_type": "code",
      "metadata": {
        "id": "SGqnteLX_1sE"
      },
      "source": [
        "import io\n",
        "\n",
        "out_v = io.open(\"embeddings.tsv\", \"w\", encoding=\"utf-8\")\n",
        "out_m = io.open(\"metadata.tsv\", \"w\", encoding=\"utf-8\")\n",
        "\n",
        "for idx, movie_id in enumerate(vocabulary[1:]):\n",
        "    movie_title = list(movies[movies.movieId == movie_id].title)[0]\n",
        "    vector = movie_embeddings[idx]\n",
        "    out_v.write(\"\\t\".join([str(x) for x in vector]) + \"\\n\")\n",
        "    out_m.write(movie_title + \"\\n\")\n",
        "\n",
        "out_v.close()\n",
        "out_m.close()"
      ],
      "execution_count": 36,
      "outputs": []
    },
    {
      "cell_type": "code",
      "metadata": {
        "id": "ojxy7tPK_42Z"
      },
      "source": [
        ""
      ],
      "execution_count": null,
      "outputs": []
    }
  ]
}