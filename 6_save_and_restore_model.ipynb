{
  "nbformat": 4,
  "nbformat_minor": 0,
  "metadata": {
    "colab": {
      "name": "6_save_and_restore_model.ipynb",
      "provenance": []
    },
    "kernelspec": {
      "name": "python3",
      "display_name": "Python 3"
    },
    "language_info": {
      "name": "python"
    }
  },
  "cells": [
    {
      "cell_type": "code",
      "metadata": {
        "id": "AU5Tm5Qqy9Eq"
      },
      "source": [
        "!pip install -q pyyaml h5py"
      ],
      "execution_count": 1,
      "outputs": []
    },
    {
      "cell_type": "code",
      "metadata": {
        "colab": {
          "base_uri": "https://localhost:8080/"
        },
        "id": "dIWAACM12dl1",
        "outputId": "609cfe64-1363-4a62-8919-02565a43ab94"
      },
      "source": [
        "import os\n",
        "\n",
        "import tensorflow as tf\n",
        "from tensorflow import keras\n",
        "\n",
        "print(tf.__version__)"
      ],
      "execution_count": 2,
      "outputs": [
        {
          "output_type": "stream",
          "text": [
            "2.5.0\n"
          ],
          "name": "stdout"
        }
      ]
    },
    {
      "cell_type": "code",
      "metadata": {
        "colab": {
          "base_uri": "https://localhost:8080/"
        },
        "id": "YyWiej9Z323o",
        "outputId": "47bc5583-0ed5-4148-ec18-8617b720cce3"
      },
      "source": [
        "(train_images, train_labels), (test_images, test_labels) = tf.keras.datasets.mnist.load_data()\n",
        "\n",
        "train_labels = train_labels[:1000]\n",
        "test_labels = test_labels[:1000]\n",
        "\n",
        "train_images = train_images[:1000].reshape(-1, 28 * 28) / 255.0\n",
        "test_images = test_images[:1000].reshape(-1, 28 * 28) / 255.0"
      ],
      "execution_count": 3,
      "outputs": [
        {
          "output_type": "stream",
          "text": [
            "Downloading data from https://storage.googleapis.com/tensorflow/tf-keras-datasets/mnist.npz\n",
            "11493376/11490434 [==============================] - 0s 0us/step\n"
          ],
          "name": "stdout"
        }
      ]
    },
    {
      "cell_type": "code",
      "metadata": {
        "colab": {
          "base_uri": "https://localhost:8080/"
        },
        "id": "WZIAdMMO35Lf",
        "outputId": "6683e9fa-c642-4d72-ddd7-712b65d19ac9"
      },
      "source": [
        "def create_model():\n",
        "    model = tf.keras.Sequential(\n",
        "        [\n",
        "            keras.layers.Dense(512, activation='relu', input_shape=(784,)),\n",
        "            keras.layers.Dropout(0.2),\n",
        "            keras.layers.Dense(10, activation='softmax'),\n",
        "        ]\n",
        "    )\n",
        "\n",
        "    model.compile(\n",
        "        optimizer='adam',\n",
        "        loss=\"sparse_categorical_crossentropy\",\n",
        "        metrics=['accuracy'],\n",
        "    )\n",
        "\n",
        "    return model\n",
        "\n",
        "model = create_model()\n",
        "\n",
        "model.summary()"
      ],
      "execution_count": 8,
      "outputs": [
        {
          "output_type": "stream",
          "text": [
            "Model: \"sequential_1\"\n",
            "_________________________________________________________________\n",
            "Layer (type)                 Output Shape              Param #   \n",
            "=================================================================\n",
            "dense_3 (Dense)              (None, 512)               401920    \n",
            "_________________________________________________________________\n",
            "dropout_2 (Dropout)          (None, 512)               0         \n",
            "_________________________________________________________________\n",
            "dense_4 (Dense)              (None, 10)                5130      \n",
            "=================================================================\n",
            "Total params: 407,050\n",
            "Trainable params: 407,050\n",
            "Non-trainable params: 0\n",
            "_________________________________________________________________\n"
          ],
          "name": "stdout"
        }
      ]
    },
    {
      "cell_type": "code",
      "metadata": {
        "colab": {
          "base_uri": "https://localhost:8080/"
        },
        "id": "4s4tsxec4WG1",
        "outputId": "b2221e02-0dda-4e5f-a4f5-1a89d58950e1"
      },
      "source": [
        "checkpoint_path = \"training_1/cp.ckpt\"\n",
        "checkpoint_dir = os.path.dirname(checkpoint_path)\n",
        "\n",
        "cp_callback = tf.keras.callbacks.ModelCheckpoint(checkpoint_path, \n",
        "                                                 save_weights_only=True,\n",
        "                                                 verbose=1)\n",
        "\n",
        "model.fit(train_images, \n",
        "          train_labels,  \n",
        "          epochs=10,\n",
        "          validation_data=(test_images,test_labels),\n",
        "          callbacks=[cp_callback])"
      ],
      "execution_count": 9,
      "outputs": [
        {
          "output_type": "stream",
          "text": [
            "Epoch 1/10\n",
            "32/32 [==============================] - 1s 14ms/step - loss: 1.1840 - accuracy: 0.6580 - val_loss: 0.7313 - val_accuracy: 0.7740\n",
            "\n",
            "Epoch 00001: saving model to training_1/cp.ckpt\n",
            "Epoch 2/10\n",
            "32/32 [==============================] - 0s 9ms/step - loss: 0.4428 - accuracy: 0.8770 - val_loss: 0.5311 - val_accuracy: 0.8350\n",
            "\n",
            "Epoch 00002: saving model to training_1/cp.ckpt\n",
            "Epoch 3/10\n",
            "32/32 [==============================] - 0s 9ms/step - loss: 0.3127 - accuracy: 0.9170 - val_loss: 0.4894 - val_accuracy: 0.8410\n",
            "\n",
            "Epoch 00003: saving model to training_1/cp.ckpt\n",
            "Epoch 4/10\n",
            "32/32 [==============================] - 0s 8ms/step - loss: 0.2285 - accuracy: 0.9420 - val_loss: 0.4935 - val_accuracy: 0.8380\n",
            "\n",
            "Epoch 00004: saving model to training_1/cp.ckpt\n",
            "Epoch 5/10\n",
            "32/32 [==============================] - 0s 8ms/step - loss: 0.1729 - accuracy: 0.9620 - val_loss: 0.4104 - val_accuracy: 0.8690\n",
            "\n",
            "Epoch 00005: saving model to training_1/cp.ckpt\n",
            "Epoch 6/10\n",
            "32/32 [==============================] - 0s 11ms/step - loss: 0.1174 - accuracy: 0.9740 - val_loss: 0.4263 - val_accuracy: 0.8500\n",
            "\n",
            "Epoch 00006: saving model to training_1/cp.ckpt\n",
            "Epoch 7/10\n",
            "32/32 [==============================] - 0s 11ms/step - loss: 0.0907 - accuracy: 0.9830 - val_loss: 0.4233 - val_accuracy: 0.8580\n",
            "\n",
            "Epoch 00007: saving model to training_1/cp.ckpt\n",
            "Epoch 8/10\n",
            "32/32 [==============================] - 0s 9ms/step - loss: 0.0778 - accuracy: 0.9900 - val_loss: 0.4150 - val_accuracy: 0.8660\n",
            "\n",
            "Epoch 00008: saving model to training_1/cp.ckpt\n",
            "Epoch 9/10\n",
            "32/32 [==============================] - 0s 9ms/step - loss: 0.0515 - accuracy: 0.9970 - val_loss: 0.4127 - val_accuracy: 0.8700\n",
            "\n",
            "Epoch 00009: saving model to training_1/cp.ckpt\n",
            "Epoch 10/10\n",
            "32/32 [==============================] - 0s 8ms/step - loss: 0.0405 - accuracy: 0.9970 - val_loss: 0.3901 - val_accuracy: 0.8770\n",
            "\n",
            "Epoch 00010: saving model to training_1/cp.ckpt\n"
          ],
          "name": "stdout"
        },
        {
          "output_type": "execute_result",
          "data": {
            "text/plain": [
              "<tensorflow.python.keras.callbacks.History at 0x7fc80b8389d0>"
            ]
          },
          "metadata": {
            "tags": []
          },
          "execution_count": 9
        }
      ]
    },
    {
      "cell_type": "code",
      "metadata": {
        "colab": {
          "base_uri": "https://localhost:8080/"
        },
        "id": "jlNAFmpK4oNv",
        "outputId": "75327644-2770-40f4-88ac-a8686d06fd5e"
      },
      "source": [
        "!ls {checkpoint_dir}"
      ],
      "execution_count": 10,
      "outputs": [
        {
          "output_type": "stream",
          "text": [
            "checkpoint  cp.ckpt.data-00000-of-00001  cp.ckpt.index\n"
          ],
          "name": "stdout"
        }
      ]
    },
    {
      "cell_type": "code",
      "metadata": {
        "colab": {
          "base_uri": "https://localhost:8080/"
        },
        "id": "-FXO14o346DE",
        "outputId": "f4077234-d604-4317-b44e-d3591c415d6d"
      },
      "source": [
        "model = create_model()\n",
        "\n",
        "loss, acc = model.evaluate(test_images, test_labels, verbose=2)\n",
        "print(\"Untrained model, accuracy: {:5.2f}%\".format(100*acc))"
      ],
      "execution_count": 11,
      "outputs": [
        {
          "output_type": "stream",
          "text": [
            "32/32 - 0s - loss: 2.3289 - accuracy: 0.0850\n",
            "Untrained model, accuracy:  8.50%\n"
          ],
          "name": "stdout"
        }
      ]
    },
    {
      "cell_type": "code",
      "metadata": {
        "colab": {
          "base_uri": "https://localhost:8080/"
        },
        "id": "g1YbgPxv5He1",
        "outputId": "e7d01d27-5ee2-4929-f647-149d0175b5d4"
      },
      "source": [
        "model.load_weights(checkpoint_path)\n",
        "loss, acc = model.evaluate(test_images, test_labels, verbose=2)\n",
        "print(\"Untrained model, accuracy: {:5.2f}%\".format(100*acc))"
      ],
      "execution_count": 12,
      "outputs": [
        {
          "output_type": "stream",
          "text": [
            "32/32 - 0s - loss: 0.3901 - accuracy: 0.8770\n",
            "Untrained model, accuracy: 87.70%\n"
          ],
          "name": "stdout"
        }
      ]
    },
    {
      "cell_type": "code",
      "metadata": {
        "colab": {
          "base_uri": "https://localhost:8080/"
        },
        "id": "oYWyL9Ck5NfR",
        "outputId": "1aa76609-90e5-4e5a-fe46-4c72b308dcf3"
      },
      "source": [
        "checkpoint_path = \"training_2/cp-{epoch:04d}.ckpt\"\n",
        "checkpoint_dir = os.path.dirname(checkpoint_path)\n",
        "\n",
        "cp_callback = tf.keras.callbacks.ModelCheckpoint(\n",
        "    filepath=checkpoint_path, \n",
        "    verbose=1, \n",
        "    save_weights_only=True,\n",
        "    save_freq=5)\n",
        "\n",
        "model = create_model()\n",
        "\n",
        "model.save_weights(checkpoint_path.format(epoch=0))\n",
        "\n",
        "model.fit(train_images, \n",
        "          train_labels,\n",
        "          epochs=50, \n",
        "          callbacks=[cp_callback],\n",
        "          validation_data=(test_images,test_labels),\n",
        "          verbose=0)"
      ],
      "execution_count": 15,
      "outputs": [
        {
          "output_type": "stream",
          "text": [
            "WARNING:tensorflow:Unresolved object in checkpoint: (root).optimizer.iter\n",
            "WARNING:tensorflow:Unresolved object in checkpoint: (root).optimizer.beta_1\n",
            "WARNING:tensorflow:Unresolved object in checkpoint: (root).optimizer.beta_2\n",
            "WARNING:tensorflow:Unresolved object in checkpoint: (root).optimizer.decay\n",
            "WARNING:tensorflow:Unresolved object in checkpoint: (root).optimizer.learning_rate\n",
            "WARNING:tensorflow:A checkpoint was restored (e.g. tf.train.Checkpoint.restore or tf.keras.Model.load_weights) but not all checkpointed values were used. See above for specific issues. Use expect_partial() on the load status object, e.g. tf.train.Checkpoint.restore(...).expect_partial(), to silence these warnings, or use assert_consumed() to make the check explicit. See https://www.tensorflow.org/guide/checkpoint#loading_mechanics for details.\n",
            "\n",
            "Epoch 00001: saving model to training_2/cp-0001.ckpt\n",
            "\n",
            "Epoch 00001: saving model to training_2/cp-0001.ckpt\n",
            "\n",
            "Epoch 00001: saving model to training_2/cp-0001.ckpt\n",
            "\n",
            "Epoch 00001: saving model to training_2/cp-0001.ckpt\n",
            "\n",
            "Epoch 00001: saving model to training_2/cp-0001.ckpt\n",
            "\n",
            "Epoch 00001: saving model to training_2/cp-0001.ckpt\n",
            "\n",
            "Epoch 00002: saving model to training_2/cp-0002.ckpt\n",
            "\n",
            "Epoch 00002: saving model to training_2/cp-0002.ckpt\n",
            "\n",
            "Epoch 00002: saving model to training_2/cp-0002.ckpt\n",
            "\n",
            "Epoch 00002: saving model to training_2/cp-0002.ckpt\n",
            "\n",
            "Epoch 00002: saving model to training_2/cp-0002.ckpt\n",
            "\n",
            "Epoch 00002: saving model to training_2/cp-0002.ckpt\n",
            "\n",
            "Epoch 00003: saving model to training_2/cp-0003.ckpt\n",
            "\n",
            "Epoch 00003: saving model to training_2/cp-0003.ckpt\n",
            "\n",
            "Epoch 00003: saving model to training_2/cp-0003.ckpt\n",
            "\n",
            "Epoch 00003: saving model to training_2/cp-0003.ckpt\n",
            "\n",
            "Epoch 00003: saving model to training_2/cp-0003.ckpt\n",
            "\n",
            "Epoch 00003: saving model to training_2/cp-0003.ckpt\n",
            "\n",
            "Epoch 00003: saving model to training_2/cp-0003.ckpt\n",
            "\n",
            "Epoch 00004: saving model to training_2/cp-0004.ckpt\n",
            "\n",
            "Epoch 00004: saving model to training_2/cp-0004.ckpt\n",
            "\n",
            "Epoch 00004: saving model to training_2/cp-0004.ckpt\n",
            "\n",
            "Epoch 00004: saving model to training_2/cp-0004.ckpt\n",
            "\n",
            "Epoch 00004: saving model to training_2/cp-0004.ckpt\n",
            "\n",
            "Epoch 00004: saving model to training_2/cp-0004.ckpt\n",
            "\n",
            "Epoch 00005: saving model to training_2/cp-0005.ckpt\n",
            "\n",
            "Epoch 00005: saving model to training_2/cp-0005.ckpt\n",
            "\n",
            "Epoch 00005: saving model to training_2/cp-0005.ckpt\n",
            "\n",
            "Epoch 00005: saving model to training_2/cp-0005.ckpt\n",
            "\n",
            "Epoch 00005: saving model to training_2/cp-0005.ckpt\n",
            "\n",
            "Epoch 00005: saving model to training_2/cp-0005.ckpt\n",
            "\n",
            "Epoch 00005: saving model to training_2/cp-0005.ckpt\n",
            "\n",
            "Epoch 00006: saving model to training_2/cp-0006.ckpt\n",
            "\n",
            "Epoch 00006: saving model to training_2/cp-0006.ckpt\n",
            "\n",
            "Epoch 00006: saving model to training_2/cp-0006.ckpt\n",
            "\n",
            "Epoch 00006: saving model to training_2/cp-0006.ckpt\n",
            "\n",
            "Epoch 00006: saving model to training_2/cp-0006.ckpt\n",
            "\n",
            "Epoch 00006: saving model to training_2/cp-0006.ckpt\n",
            "\n",
            "Epoch 00007: saving model to training_2/cp-0007.ckpt\n",
            "\n",
            "Epoch 00007: saving model to training_2/cp-0007.ckpt\n",
            "\n",
            "Epoch 00007: saving model to training_2/cp-0007.ckpt\n",
            "\n",
            "Epoch 00007: saving model to training_2/cp-0007.ckpt\n",
            "\n",
            "Epoch 00007: saving model to training_2/cp-0007.ckpt\n",
            "\n",
            "Epoch 00007: saving model to training_2/cp-0007.ckpt\n",
            "\n",
            "Epoch 00008: saving model to training_2/cp-0008.ckpt\n",
            "\n",
            "Epoch 00008: saving model to training_2/cp-0008.ckpt\n",
            "\n",
            "Epoch 00008: saving model to training_2/cp-0008.ckpt\n",
            "\n",
            "Epoch 00008: saving model to training_2/cp-0008.ckpt\n",
            "\n",
            "Epoch 00008: saving model to training_2/cp-0008.ckpt\n",
            "\n",
            "Epoch 00008: saving model to training_2/cp-0008.ckpt\n",
            "\n",
            "Epoch 00008: saving model to training_2/cp-0008.ckpt\n",
            "\n",
            "Epoch 00009: saving model to training_2/cp-0009.ckpt\n",
            "\n",
            "Epoch 00009: saving model to training_2/cp-0009.ckpt\n",
            "\n",
            "Epoch 00009: saving model to training_2/cp-0009.ckpt\n",
            "\n",
            "Epoch 00009: saving model to training_2/cp-0009.ckpt\n",
            "\n",
            "Epoch 00009: saving model to training_2/cp-0009.ckpt\n",
            "\n",
            "Epoch 00009: saving model to training_2/cp-0009.ckpt\n",
            "\n",
            "Epoch 00010: saving model to training_2/cp-0010.ckpt\n",
            "\n",
            "Epoch 00010: saving model to training_2/cp-0010.ckpt\n",
            "\n",
            "Epoch 00010: saving model to training_2/cp-0010.ckpt\n",
            "\n",
            "Epoch 00010: saving model to training_2/cp-0010.ckpt\n",
            "\n",
            "Epoch 00010: saving model to training_2/cp-0010.ckpt\n",
            "\n",
            "Epoch 00010: saving model to training_2/cp-0010.ckpt\n",
            "\n",
            "Epoch 00010: saving model to training_2/cp-0010.ckpt\n",
            "\n",
            "Epoch 00011: saving model to training_2/cp-0011.ckpt\n",
            "\n",
            "Epoch 00011: saving model to training_2/cp-0011.ckpt\n",
            "\n",
            "Epoch 00011: saving model to training_2/cp-0011.ckpt\n",
            "\n",
            "Epoch 00011: saving model to training_2/cp-0011.ckpt\n",
            "\n",
            "Epoch 00011: saving model to training_2/cp-0011.ckpt\n",
            "\n",
            "Epoch 00011: saving model to training_2/cp-0011.ckpt\n",
            "\n",
            "Epoch 00012: saving model to training_2/cp-0012.ckpt\n",
            "\n",
            "Epoch 00012: saving model to training_2/cp-0012.ckpt\n",
            "\n",
            "Epoch 00012: saving model to training_2/cp-0012.ckpt\n",
            "\n",
            "Epoch 00012: saving model to training_2/cp-0012.ckpt\n",
            "\n",
            "Epoch 00012: saving model to training_2/cp-0012.ckpt\n",
            "\n",
            "Epoch 00012: saving model to training_2/cp-0012.ckpt\n",
            "\n",
            "Epoch 00013: saving model to training_2/cp-0013.ckpt\n",
            "\n",
            "Epoch 00013: saving model to training_2/cp-0013.ckpt\n",
            "\n",
            "Epoch 00013: saving model to training_2/cp-0013.ckpt\n",
            "\n",
            "Epoch 00013: saving model to training_2/cp-0013.ckpt\n",
            "\n",
            "Epoch 00013: saving model to training_2/cp-0013.ckpt\n",
            "\n",
            "Epoch 00013: saving model to training_2/cp-0013.ckpt\n",
            "\n",
            "Epoch 00013: saving model to training_2/cp-0013.ckpt\n",
            "\n",
            "Epoch 00014: saving model to training_2/cp-0014.ckpt\n",
            "\n",
            "Epoch 00014: saving model to training_2/cp-0014.ckpt\n",
            "\n",
            "Epoch 00014: saving model to training_2/cp-0014.ckpt\n",
            "\n",
            "Epoch 00014: saving model to training_2/cp-0014.ckpt\n",
            "\n",
            "Epoch 00014: saving model to training_2/cp-0014.ckpt\n",
            "\n",
            "Epoch 00014: saving model to training_2/cp-0014.ckpt\n",
            "\n",
            "Epoch 00015: saving model to training_2/cp-0015.ckpt\n",
            "\n",
            "Epoch 00015: saving model to training_2/cp-0015.ckpt\n",
            "\n",
            "Epoch 00015: saving model to training_2/cp-0015.ckpt\n",
            "\n",
            "Epoch 00015: saving model to training_2/cp-0015.ckpt\n",
            "\n",
            "Epoch 00015: saving model to training_2/cp-0015.ckpt\n",
            "\n",
            "Epoch 00015: saving model to training_2/cp-0015.ckpt\n",
            "\n",
            "Epoch 00015: saving model to training_2/cp-0015.ckpt\n",
            "\n",
            "Epoch 00016: saving model to training_2/cp-0016.ckpt\n",
            "\n",
            "Epoch 00016: saving model to training_2/cp-0016.ckpt\n",
            "\n",
            "Epoch 00016: saving model to training_2/cp-0016.ckpt\n",
            "\n",
            "Epoch 00016: saving model to training_2/cp-0016.ckpt\n",
            "\n",
            "Epoch 00016: saving model to training_2/cp-0016.ckpt\n",
            "\n",
            "Epoch 00016: saving model to training_2/cp-0016.ckpt\n",
            "\n",
            "Epoch 00017: saving model to training_2/cp-0017.ckpt\n",
            "\n",
            "Epoch 00017: saving model to training_2/cp-0017.ckpt\n",
            "\n",
            "Epoch 00017: saving model to training_2/cp-0017.ckpt\n",
            "\n",
            "Epoch 00017: saving model to training_2/cp-0017.ckpt\n",
            "\n",
            "Epoch 00017: saving model to training_2/cp-0017.ckpt\n",
            "\n",
            "Epoch 00017: saving model to training_2/cp-0017.ckpt\n",
            "\n",
            "Epoch 00018: saving model to training_2/cp-0018.ckpt\n",
            "\n",
            "Epoch 00018: saving model to training_2/cp-0018.ckpt\n",
            "\n",
            "Epoch 00018: saving model to training_2/cp-0018.ckpt\n",
            "\n",
            "Epoch 00018: saving model to training_2/cp-0018.ckpt\n",
            "\n",
            "Epoch 00018: saving model to training_2/cp-0018.ckpt\n",
            "\n",
            "Epoch 00018: saving model to training_2/cp-0018.ckpt\n",
            "\n",
            "Epoch 00018: saving model to training_2/cp-0018.ckpt\n",
            "\n",
            "Epoch 00019: saving model to training_2/cp-0019.ckpt\n",
            "\n",
            "Epoch 00019: saving model to training_2/cp-0019.ckpt\n",
            "\n",
            "Epoch 00019: saving model to training_2/cp-0019.ckpt\n",
            "\n",
            "Epoch 00019: saving model to training_2/cp-0019.ckpt\n",
            "\n",
            "Epoch 00019: saving model to training_2/cp-0019.ckpt\n",
            "\n",
            "Epoch 00019: saving model to training_2/cp-0019.ckpt\n",
            "\n",
            "Epoch 00020: saving model to training_2/cp-0020.ckpt\n",
            "\n",
            "Epoch 00020: saving model to training_2/cp-0020.ckpt\n",
            "\n",
            "Epoch 00020: saving model to training_2/cp-0020.ckpt\n",
            "\n",
            "Epoch 00020: saving model to training_2/cp-0020.ckpt\n",
            "\n",
            "Epoch 00020: saving model to training_2/cp-0020.ckpt\n",
            "\n",
            "Epoch 00020: saving model to training_2/cp-0020.ckpt\n",
            "\n",
            "Epoch 00020: saving model to training_2/cp-0020.ckpt\n",
            "\n",
            "Epoch 00021: saving model to training_2/cp-0021.ckpt\n",
            "\n",
            "Epoch 00021: saving model to training_2/cp-0021.ckpt\n",
            "\n",
            "Epoch 00021: saving model to training_2/cp-0021.ckpt\n",
            "\n",
            "Epoch 00021: saving model to training_2/cp-0021.ckpt\n",
            "\n",
            "Epoch 00021: saving model to training_2/cp-0021.ckpt\n",
            "\n",
            "Epoch 00021: saving model to training_2/cp-0021.ckpt\n",
            "\n",
            "Epoch 00022: saving model to training_2/cp-0022.ckpt\n",
            "\n",
            "Epoch 00022: saving model to training_2/cp-0022.ckpt\n",
            "\n",
            "Epoch 00022: saving model to training_2/cp-0022.ckpt\n",
            "\n",
            "Epoch 00022: saving model to training_2/cp-0022.ckpt\n",
            "\n",
            "Epoch 00022: saving model to training_2/cp-0022.ckpt\n",
            "\n",
            "Epoch 00022: saving model to training_2/cp-0022.ckpt\n",
            "\n",
            "Epoch 00023: saving model to training_2/cp-0023.ckpt\n",
            "\n",
            "Epoch 00023: saving model to training_2/cp-0023.ckpt\n",
            "\n",
            "Epoch 00023: saving model to training_2/cp-0023.ckpt\n",
            "\n",
            "Epoch 00023: saving model to training_2/cp-0023.ckpt\n",
            "\n",
            "Epoch 00023: saving model to training_2/cp-0023.ckpt\n",
            "\n",
            "Epoch 00023: saving model to training_2/cp-0023.ckpt\n",
            "\n",
            "Epoch 00023: saving model to training_2/cp-0023.ckpt\n",
            "\n",
            "Epoch 00024: saving model to training_2/cp-0024.ckpt\n",
            "\n",
            "Epoch 00024: saving model to training_2/cp-0024.ckpt\n",
            "\n",
            "Epoch 00024: saving model to training_2/cp-0024.ckpt\n",
            "\n",
            "Epoch 00024: saving model to training_2/cp-0024.ckpt\n",
            "\n",
            "Epoch 00024: saving model to training_2/cp-0024.ckpt\n",
            "\n",
            "Epoch 00024: saving model to training_2/cp-0024.ckpt\n",
            "\n",
            "Epoch 00025: saving model to training_2/cp-0025.ckpt\n",
            "\n",
            "Epoch 00025: saving model to training_2/cp-0025.ckpt\n",
            "\n",
            "Epoch 00025: saving model to training_2/cp-0025.ckpt\n",
            "\n",
            "Epoch 00025: saving model to training_2/cp-0025.ckpt\n",
            "\n",
            "Epoch 00025: saving model to training_2/cp-0025.ckpt\n",
            "\n",
            "Epoch 00025: saving model to training_2/cp-0025.ckpt\n",
            "\n",
            "Epoch 00025: saving model to training_2/cp-0025.ckpt\n",
            "\n",
            "Epoch 00026: saving model to training_2/cp-0026.ckpt\n",
            "\n",
            "Epoch 00026: saving model to training_2/cp-0026.ckpt\n",
            "\n",
            "Epoch 00026: saving model to training_2/cp-0026.ckpt\n",
            "\n",
            "Epoch 00026: saving model to training_2/cp-0026.ckpt\n",
            "\n",
            "Epoch 00026: saving model to training_2/cp-0026.ckpt\n",
            "\n",
            "Epoch 00026: saving model to training_2/cp-0026.ckpt\n",
            "\n",
            "Epoch 00027: saving model to training_2/cp-0027.ckpt\n",
            "\n",
            "Epoch 00027: saving model to training_2/cp-0027.ckpt\n",
            "\n",
            "Epoch 00027: saving model to training_2/cp-0027.ckpt\n",
            "\n",
            "Epoch 00027: saving model to training_2/cp-0027.ckpt\n",
            "\n",
            "Epoch 00027: saving model to training_2/cp-0027.ckpt\n",
            "\n",
            "Epoch 00027: saving model to training_2/cp-0027.ckpt\n",
            "\n",
            "Epoch 00028: saving model to training_2/cp-0028.ckpt\n",
            "\n",
            "Epoch 00028: saving model to training_2/cp-0028.ckpt\n",
            "\n",
            "Epoch 00028: saving model to training_2/cp-0028.ckpt\n",
            "\n",
            "Epoch 00028: saving model to training_2/cp-0028.ckpt\n",
            "\n",
            "Epoch 00028: saving model to training_2/cp-0028.ckpt\n",
            "\n",
            "Epoch 00028: saving model to training_2/cp-0028.ckpt\n",
            "\n",
            "Epoch 00028: saving model to training_2/cp-0028.ckpt\n",
            "\n",
            "Epoch 00029: saving model to training_2/cp-0029.ckpt\n",
            "\n",
            "Epoch 00029: saving model to training_2/cp-0029.ckpt\n",
            "\n",
            "Epoch 00029: saving model to training_2/cp-0029.ckpt\n",
            "\n",
            "Epoch 00029: saving model to training_2/cp-0029.ckpt\n",
            "\n",
            "Epoch 00029: saving model to training_2/cp-0029.ckpt\n",
            "\n",
            "Epoch 00029: saving model to training_2/cp-0029.ckpt\n",
            "\n",
            "Epoch 00030: saving model to training_2/cp-0030.ckpt\n",
            "\n",
            "Epoch 00030: saving model to training_2/cp-0030.ckpt\n",
            "\n",
            "Epoch 00030: saving model to training_2/cp-0030.ckpt\n",
            "\n",
            "Epoch 00030: saving model to training_2/cp-0030.ckpt\n",
            "\n",
            "Epoch 00030: saving model to training_2/cp-0030.ckpt\n",
            "\n",
            "Epoch 00030: saving model to training_2/cp-0030.ckpt\n",
            "\n",
            "Epoch 00030: saving model to training_2/cp-0030.ckpt\n",
            "\n",
            "Epoch 00031: saving model to training_2/cp-0031.ckpt\n",
            "\n",
            "Epoch 00031: saving model to training_2/cp-0031.ckpt\n",
            "\n",
            "Epoch 00031: saving model to training_2/cp-0031.ckpt\n",
            "\n",
            "Epoch 00031: saving model to training_2/cp-0031.ckpt\n",
            "\n",
            "Epoch 00031: saving model to training_2/cp-0031.ckpt\n",
            "\n",
            "Epoch 00031: saving model to training_2/cp-0031.ckpt\n",
            "\n",
            "Epoch 00032: saving model to training_2/cp-0032.ckpt\n",
            "\n",
            "Epoch 00032: saving model to training_2/cp-0032.ckpt\n",
            "\n",
            "Epoch 00032: saving model to training_2/cp-0032.ckpt\n",
            "\n",
            "Epoch 00032: saving model to training_2/cp-0032.ckpt\n",
            "\n",
            "Epoch 00032: saving model to training_2/cp-0032.ckpt\n",
            "\n",
            "Epoch 00032: saving model to training_2/cp-0032.ckpt\n",
            "\n",
            "Epoch 00033: saving model to training_2/cp-0033.ckpt\n",
            "\n",
            "Epoch 00033: saving model to training_2/cp-0033.ckpt\n",
            "\n",
            "Epoch 00033: saving model to training_2/cp-0033.ckpt\n",
            "\n",
            "Epoch 00033: saving model to training_2/cp-0033.ckpt\n",
            "\n",
            "Epoch 00033: saving model to training_2/cp-0033.ckpt\n",
            "\n",
            "Epoch 00033: saving model to training_2/cp-0033.ckpt\n",
            "\n",
            "Epoch 00033: saving model to training_2/cp-0033.ckpt\n",
            "\n",
            "Epoch 00034: saving model to training_2/cp-0034.ckpt\n",
            "\n",
            "Epoch 00034: saving model to training_2/cp-0034.ckpt\n",
            "\n",
            "Epoch 00034: saving model to training_2/cp-0034.ckpt\n",
            "\n",
            "Epoch 00034: saving model to training_2/cp-0034.ckpt\n",
            "\n",
            "Epoch 00034: saving model to training_2/cp-0034.ckpt\n",
            "\n",
            "Epoch 00034: saving model to training_2/cp-0034.ckpt\n",
            "\n",
            "Epoch 00035: saving model to training_2/cp-0035.ckpt\n",
            "\n",
            "Epoch 00035: saving model to training_2/cp-0035.ckpt\n",
            "\n",
            "Epoch 00035: saving model to training_2/cp-0035.ckpt\n",
            "\n",
            "Epoch 00035: saving model to training_2/cp-0035.ckpt\n",
            "\n",
            "Epoch 00035: saving model to training_2/cp-0035.ckpt\n",
            "\n",
            "Epoch 00035: saving model to training_2/cp-0035.ckpt\n",
            "\n",
            "Epoch 00035: saving model to training_2/cp-0035.ckpt\n",
            "\n",
            "Epoch 00036: saving model to training_2/cp-0036.ckpt\n",
            "\n",
            "Epoch 00036: saving model to training_2/cp-0036.ckpt\n",
            "\n",
            "Epoch 00036: saving model to training_2/cp-0036.ckpt\n",
            "\n",
            "Epoch 00036: saving model to training_2/cp-0036.ckpt\n",
            "\n",
            "Epoch 00036: saving model to training_2/cp-0036.ckpt\n",
            "\n",
            "Epoch 00036: saving model to training_2/cp-0036.ckpt\n",
            "\n",
            "Epoch 00037: saving model to training_2/cp-0037.ckpt\n",
            "\n",
            "Epoch 00037: saving model to training_2/cp-0037.ckpt\n",
            "\n",
            "Epoch 00037: saving model to training_2/cp-0037.ckpt\n",
            "\n",
            "Epoch 00037: saving model to training_2/cp-0037.ckpt\n",
            "\n",
            "Epoch 00037: saving model to training_2/cp-0037.ckpt\n",
            "\n",
            "Epoch 00037: saving model to training_2/cp-0037.ckpt\n",
            "\n",
            "Epoch 00038: saving model to training_2/cp-0038.ckpt\n",
            "\n",
            "Epoch 00038: saving model to training_2/cp-0038.ckpt\n",
            "\n",
            "Epoch 00038: saving model to training_2/cp-0038.ckpt\n",
            "\n",
            "Epoch 00038: saving model to training_2/cp-0038.ckpt\n",
            "\n",
            "Epoch 00038: saving model to training_2/cp-0038.ckpt\n",
            "\n",
            "Epoch 00038: saving model to training_2/cp-0038.ckpt\n",
            "\n",
            "Epoch 00038: saving model to training_2/cp-0038.ckpt\n",
            "\n",
            "Epoch 00039: saving model to training_2/cp-0039.ckpt\n",
            "\n",
            "Epoch 00039: saving model to training_2/cp-0039.ckpt\n",
            "\n",
            "Epoch 00039: saving model to training_2/cp-0039.ckpt\n",
            "\n",
            "Epoch 00039: saving model to training_2/cp-0039.ckpt\n",
            "\n",
            "Epoch 00039: saving model to training_2/cp-0039.ckpt\n",
            "\n",
            "Epoch 00039: saving model to training_2/cp-0039.ckpt\n",
            "\n",
            "Epoch 00040: saving model to training_2/cp-0040.ckpt\n",
            "\n",
            "Epoch 00040: saving model to training_2/cp-0040.ckpt\n",
            "\n",
            "Epoch 00040: saving model to training_2/cp-0040.ckpt\n",
            "\n",
            "Epoch 00040: saving model to training_2/cp-0040.ckpt\n",
            "\n",
            "Epoch 00040: saving model to training_2/cp-0040.ckpt\n",
            "\n",
            "Epoch 00040: saving model to training_2/cp-0040.ckpt\n",
            "\n",
            "Epoch 00040: saving model to training_2/cp-0040.ckpt\n",
            "\n",
            "Epoch 00041: saving model to training_2/cp-0041.ckpt\n",
            "\n",
            "Epoch 00041: saving model to training_2/cp-0041.ckpt\n",
            "\n",
            "Epoch 00041: saving model to training_2/cp-0041.ckpt\n",
            "\n",
            "Epoch 00041: saving model to training_2/cp-0041.ckpt\n",
            "\n",
            "Epoch 00041: saving model to training_2/cp-0041.ckpt\n",
            "\n",
            "Epoch 00041: saving model to training_2/cp-0041.ckpt\n",
            "\n",
            "Epoch 00042: saving model to training_2/cp-0042.ckpt\n",
            "\n",
            "Epoch 00042: saving model to training_2/cp-0042.ckpt\n",
            "\n",
            "Epoch 00042: saving model to training_2/cp-0042.ckpt\n",
            "\n",
            "Epoch 00042: saving model to training_2/cp-0042.ckpt\n",
            "\n",
            "Epoch 00042: saving model to training_2/cp-0042.ckpt\n",
            "\n",
            "Epoch 00042: saving model to training_2/cp-0042.ckpt\n",
            "\n",
            "Epoch 00043: saving model to training_2/cp-0043.ckpt\n",
            "\n",
            "Epoch 00043: saving model to training_2/cp-0043.ckpt\n",
            "\n",
            "Epoch 00043: saving model to training_2/cp-0043.ckpt\n",
            "\n",
            "Epoch 00043: saving model to training_2/cp-0043.ckpt\n",
            "\n",
            "Epoch 00043: saving model to training_2/cp-0043.ckpt\n",
            "\n",
            "Epoch 00043: saving model to training_2/cp-0043.ckpt\n",
            "\n",
            "Epoch 00043: saving model to training_2/cp-0043.ckpt\n",
            "\n",
            "Epoch 00044: saving model to training_2/cp-0044.ckpt\n",
            "\n",
            "Epoch 00044: saving model to training_2/cp-0044.ckpt\n",
            "\n",
            "Epoch 00044: saving model to training_2/cp-0044.ckpt\n",
            "\n",
            "Epoch 00044: saving model to training_2/cp-0044.ckpt\n",
            "\n",
            "Epoch 00044: saving model to training_2/cp-0044.ckpt\n",
            "\n",
            "Epoch 00044: saving model to training_2/cp-0044.ckpt\n",
            "\n",
            "Epoch 00045: saving model to training_2/cp-0045.ckpt\n",
            "\n",
            "Epoch 00045: saving model to training_2/cp-0045.ckpt\n",
            "\n",
            "Epoch 00045: saving model to training_2/cp-0045.ckpt\n",
            "\n",
            "Epoch 00045: saving model to training_2/cp-0045.ckpt\n",
            "\n",
            "Epoch 00045: saving model to training_2/cp-0045.ckpt\n",
            "\n",
            "Epoch 00045: saving model to training_2/cp-0045.ckpt\n",
            "\n",
            "Epoch 00045: saving model to training_2/cp-0045.ckpt\n",
            "\n",
            "Epoch 00046: saving model to training_2/cp-0046.ckpt\n",
            "\n",
            "Epoch 00046: saving model to training_2/cp-0046.ckpt\n",
            "\n",
            "Epoch 00046: saving model to training_2/cp-0046.ckpt\n",
            "\n",
            "Epoch 00046: saving model to training_2/cp-0046.ckpt\n",
            "\n",
            "Epoch 00046: saving model to training_2/cp-0046.ckpt\n",
            "\n",
            "Epoch 00046: saving model to training_2/cp-0046.ckpt\n",
            "\n",
            "Epoch 00047: saving model to training_2/cp-0047.ckpt\n",
            "\n",
            "Epoch 00047: saving model to training_2/cp-0047.ckpt\n",
            "\n",
            "Epoch 00047: saving model to training_2/cp-0047.ckpt\n",
            "\n",
            "Epoch 00047: saving model to training_2/cp-0047.ckpt\n",
            "\n",
            "Epoch 00047: saving model to training_2/cp-0047.ckpt\n",
            "\n",
            "Epoch 00047: saving model to training_2/cp-0047.ckpt\n",
            "\n",
            "Epoch 00048: saving model to training_2/cp-0048.ckpt\n",
            "\n",
            "Epoch 00048: saving model to training_2/cp-0048.ckpt\n",
            "\n",
            "Epoch 00048: saving model to training_2/cp-0048.ckpt\n",
            "\n",
            "Epoch 00048: saving model to training_2/cp-0048.ckpt\n",
            "\n",
            "Epoch 00048: saving model to training_2/cp-0048.ckpt\n",
            "\n",
            "Epoch 00048: saving model to training_2/cp-0048.ckpt\n",
            "\n",
            "Epoch 00048: saving model to training_2/cp-0048.ckpt\n",
            "\n",
            "Epoch 00049: saving model to training_2/cp-0049.ckpt\n",
            "\n",
            "Epoch 00049: saving model to training_2/cp-0049.ckpt\n",
            "\n",
            "Epoch 00049: saving model to training_2/cp-0049.ckpt\n",
            "\n",
            "Epoch 00049: saving model to training_2/cp-0049.ckpt\n",
            "\n",
            "Epoch 00049: saving model to training_2/cp-0049.ckpt\n",
            "\n",
            "Epoch 00049: saving model to training_2/cp-0049.ckpt\n",
            "\n",
            "Epoch 00050: saving model to training_2/cp-0050.ckpt\n",
            "\n",
            "Epoch 00050: saving model to training_2/cp-0050.ckpt\n",
            "\n",
            "Epoch 00050: saving model to training_2/cp-0050.ckpt\n",
            "\n",
            "Epoch 00050: saving model to training_2/cp-0050.ckpt\n",
            "\n",
            "Epoch 00050: saving model to training_2/cp-0050.ckpt\n",
            "\n",
            "Epoch 00050: saving model to training_2/cp-0050.ckpt\n",
            "\n",
            "Epoch 00050: saving model to training_2/cp-0050.ckpt\n"
          ],
          "name": "stdout"
        },
        {
          "output_type": "execute_result",
          "data": {
            "text/plain": [
              "<tensorflow.python.keras.callbacks.History at 0x7fc80769abd0>"
            ]
          },
          "metadata": {
            "tags": []
          },
          "execution_count": 15
        }
      ]
    },
    {
      "cell_type": "code",
      "metadata": {
        "colab": {
          "base_uri": "https://localhost:8080/"
        },
        "id": "EtMpLF7d5Xf-",
        "outputId": "b83afab2-ba12-4fc3-dd1f-6162db5f7bb2"
      },
      "source": [
        "!ls {checkpoint_dir}"
      ],
      "execution_count": 16,
      "outputs": [
        {
          "output_type": "stream",
          "text": [
            "checkpoint\t\t\t  cp-0025.ckpt.index\n",
            "cp-0000.ckpt.data-00000-of-00001  cp-0026.ckpt.data-00000-of-00001\n",
            "cp-0000.ckpt.index\t\t  cp-0026.ckpt.index\n",
            "cp-0001.ckpt.data-00000-of-00001  cp-0027.ckpt.data-00000-of-00001\n",
            "cp-0001.ckpt.index\t\t  cp-0027.ckpt.index\n",
            "cp-0002.ckpt.data-00000-of-00001  cp-0028.ckpt.data-00000-of-00001\n",
            "cp-0002.ckpt.index\t\t  cp-0028.ckpt.index\n",
            "cp-0003.ckpt.data-00000-of-00001  cp-0029.ckpt.data-00000-of-00001\n",
            "cp-0003.ckpt.index\t\t  cp-0029.ckpt.index\n",
            "cp-0004.ckpt.data-00000-of-00001  cp-0030.ckpt.data-00000-of-00001\n",
            "cp-0004.ckpt.index\t\t  cp-0030.ckpt.index\n",
            "cp-0005.ckpt.data-00000-of-00001  cp-0031.ckpt.data-00000-of-00001\n",
            "cp-0005.ckpt.index\t\t  cp-0031.ckpt.index\n",
            "cp-0006.ckpt.data-00000-of-00001  cp-0032.ckpt.data-00000-of-00001\n",
            "cp-0006.ckpt.index\t\t  cp-0032.ckpt.index\n",
            "cp-0007.ckpt.data-00000-of-00001  cp-0033.ckpt.data-00000-of-00001\n",
            "cp-0007.ckpt.index\t\t  cp-0033.ckpt.index\n",
            "cp-0008.ckpt.data-00000-of-00001  cp-0034.ckpt.data-00000-of-00001\n",
            "cp-0008.ckpt.index\t\t  cp-0034.ckpt.index\n",
            "cp-0009.ckpt.data-00000-of-00001  cp-0035.ckpt.data-00000-of-00001\n",
            "cp-0009.ckpt.index\t\t  cp-0035.ckpt.index\n",
            "cp-0010.ckpt.data-00000-of-00001  cp-0036.ckpt.data-00000-of-00001\n",
            "cp-0010.ckpt.index\t\t  cp-0036.ckpt.index\n",
            "cp-0011.ckpt.data-00000-of-00001  cp-0037.ckpt.data-00000-of-00001\n",
            "cp-0011.ckpt.index\t\t  cp-0037.ckpt.index\n",
            "cp-0012.ckpt.data-00000-of-00001  cp-0038.ckpt.data-00000-of-00001\n",
            "cp-0012.ckpt.index\t\t  cp-0038.ckpt.index\n",
            "cp-0013.ckpt.data-00000-of-00001  cp-0039.ckpt.data-00000-of-00001\n",
            "cp-0013.ckpt.index\t\t  cp-0039.ckpt.index\n",
            "cp-0014.ckpt.data-00000-of-00001  cp-0040.ckpt.data-00000-of-00001\n",
            "cp-0014.ckpt.index\t\t  cp-0040.ckpt.index\n",
            "cp-0015.ckpt.data-00000-of-00001  cp-0041.ckpt.data-00000-of-00001\n",
            "cp-0015.ckpt.index\t\t  cp-0041.ckpt.index\n",
            "cp-0016.ckpt.data-00000-of-00001  cp-0042.ckpt.data-00000-of-00001\n",
            "cp-0016.ckpt.index\t\t  cp-0042.ckpt.index\n",
            "cp-0017.ckpt.data-00000-of-00001  cp-0043.ckpt.data-00000-of-00001\n",
            "cp-0017.ckpt.index\t\t  cp-0043.ckpt.index\n",
            "cp-0018.ckpt.data-00000-of-00001  cp-0044.ckpt.data-00000-of-00001\n",
            "cp-0018.ckpt.index\t\t  cp-0044.ckpt.index\n",
            "cp-0019.ckpt.data-00000-of-00001  cp-0045.ckpt.data-00000-of-00001\n",
            "cp-0019.ckpt.index\t\t  cp-0045.ckpt.index\n",
            "cp-0020.ckpt.data-00000-of-00001  cp-0046.ckpt.data-00000-of-00001\n",
            "cp-0020.ckpt.index\t\t  cp-0046.ckpt.index\n",
            "cp-0021.ckpt.data-00000-of-00001  cp-0047.ckpt.data-00000-of-00001\n",
            "cp-0021.ckpt.index\t\t  cp-0047.ckpt.index\n",
            "cp-0022.ckpt.data-00000-of-00001  cp-0048.ckpt.data-00000-of-00001\n",
            "cp-0022.ckpt.index\t\t  cp-0048.ckpt.index\n",
            "cp-0023.ckpt.data-00000-of-00001  cp-0049.ckpt.data-00000-of-00001\n",
            "cp-0023.ckpt.index\t\t  cp-0049.ckpt.index\n",
            "cp-0024.ckpt.data-00000-of-00001  cp-0050.ckpt.data-00000-of-00001\n",
            "cp-0024.ckpt.index\t\t  cp-0050.ckpt.index\n",
            "cp-0025.ckpt.data-00000-of-00001\n"
          ],
          "name": "stdout"
        }
      ]
    },
    {
      "cell_type": "code",
      "metadata": {
        "colab": {
          "base_uri": "https://localhost:8080/",
          "height": 35
        },
        "id": "7sFbHUzQ5qcW",
        "outputId": "af9dd456-6a8b-428d-b6e8-4f7224b9d3b5"
      },
      "source": [
        "latest = tf.train.latest_checkpoint(checkpoint_dir)\n",
        "latest"
      ],
      "execution_count": 17,
      "outputs": [
        {
          "output_type": "execute_result",
          "data": {
            "application/vnd.google.colaboratory.intrinsic+json": {
              "type": "string"
            },
            "text/plain": [
              "'training_2/cp-0050.ckpt'"
            ]
          },
          "metadata": {
            "tags": []
          },
          "execution_count": 17
        }
      ]
    },
    {
      "cell_type": "code",
      "metadata": {
        "colab": {
          "base_uri": "https://localhost:8080/"
        },
        "id": "V11FzP7d5t0D",
        "outputId": "8325453b-9c98-4b5a-e2ca-b84ddc43f1c3"
      },
      "source": [
        "model = create_model()\n",
        "\n",
        "model.load_weights(latest)\n",
        "\n",
        "loss, acc = model.evaluate(test_images,  test_labels, verbose=2)\n",
        "print(\"Restored model, accuracy: {:5.2f}%\".format(100*acc))"
      ],
      "execution_count": 18,
      "outputs": [
        {
          "output_type": "stream",
          "text": [
            "32/32 - 0s - loss: 0.4809 - accuracy: 0.8760\n",
            "Restored model, accuracy: 87.60%\n"
          ],
          "name": "stdout"
        }
      ]
    },
    {
      "cell_type": "code",
      "metadata": {
        "colab": {
          "base_uri": "https://localhost:8080/"
        },
        "id": "ZLJfmtvJ5za_",
        "outputId": "60931a5a-d527-403d-f834-67b19f9656a9"
      },
      "source": [
        "model.save_weights('./checkpoints/my_checkpoint')\n",
        "\n",
        "model = create_model()\n",
        "\n",
        "model.load_weights('./checkpoints/my_checkpoint')\n",
        "\n",
        "loss, acc = model.evaluate(test_images,  test_labels, verbose=2)\n",
        "print(\"Restored model, accuracy: {:5.2f}%\".format(100*acc))"
      ],
      "execution_count": 19,
      "outputs": [
        {
          "output_type": "stream",
          "text": [
            "WARNING:tensorflow:Unresolved object in checkpoint: (root).optimizer.iter\n",
            "WARNING:tensorflow:Unresolved object in checkpoint: (root).optimizer.beta_1\n",
            "WARNING:tensorflow:Unresolved object in checkpoint: (root).optimizer.beta_2\n",
            "WARNING:tensorflow:Unresolved object in checkpoint: (root).optimizer.decay\n",
            "WARNING:tensorflow:Unresolved object in checkpoint: (root).optimizer.learning_rate\n",
            "WARNING:tensorflow:A checkpoint was restored (e.g. tf.train.Checkpoint.restore or tf.keras.Model.load_weights) but not all checkpointed values were used. See above for specific issues. Use expect_partial() on the load status object, e.g. tf.train.Checkpoint.restore(...).expect_partial(), to silence these warnings, or use assert_consumed() to make the check explicit. See https://www.tensorflow.org/guide/checkpoint#loading_mechanics for details.\n",
            "32/32 - 0s - loss: 0.4809 - accuracy: 0.8760\n",
            "Restored model, accuracy: 87.60%\n"
          ],
          "name": "stdout"
        }
      ]
    },
    {
      "cell_type": "code",
      "metadata": {
        "colab": {
          "base_uri": "https://localhost:8080/"
        },
        "id": "weghioII5-X2",
        "outputId": "2c4c8fe8-0206-4cf2-d50d-6481c1024e35"
      },
      "source": [
        "model = create_model()\n",
        "model.fit(train_images, train_labels, epochs=5)\n",
        "\n",
        "!mkdir -p saved_model\n",
        "model.save('saved_model/my_model') # SavedModel format (default for TensorFlow)"
      ],
      "execution_count": 20,
      "outputs": [
        {
          "output_type": "stream",
          "text": [
            "Epoch 1/5\n",
            "32/32 [==============================] - 1s 6ms/step - loss: 1.1627 - accuracy: 0.6600\n",
            "Epoch 2/5\n",
            "32/32 [==============================] - 0s 5ms/step - loss: 0.4352 - accuracy: 0.8980\n",
            "Epoch 3/5\n",
            "32/32 [==============================] - 0s 5ms/step - loss: 0.2838 - accuracy: 0.9270\n",
            "Epoch 4/5\n",
            "32/32 [==============================] - 0s 6ms/step - loss: 0.2133 - accuracy: 0.9510\n",
            "Epoch 5/5\n",
            "32/32 [==============================] - 0s 5ms/step - loss: 0.1733 - accuracy: 0.9540\n",
            "INFO:tensorflow:Assets written to: saved_model/my_model/assets\n"
          ],
          "name": "stdout"
        }
      ]
    },
    {
      "cell_type": "code",
      "metadata": {
        "colab": {
          "base_uri": "https://localhost:8080/"
        },
        "id": "UMS3ML5P6NY2",
        "outputId": "76a1430c-bb97-41ea-c3f1-e066ea463661"
      },
      "source": [
        "!ls saved_model"
      ],
      "execution_count": 21,
      "outputs": [
        {
          "output_type": "stream",
          "text": [
            "my_model\n"
          ],
          "name": "stdout"
        }
      ]
    },
    {
      "cell_type": "code",
      "metadata": {
        "colab": {
          "base_uri": "https://localhost:8080/"
        },
        "id": "dJqx8F4e6cso",
        "outputId": "56fa2320-9b7b-4d03-cf86-faf6a980dedd"
      },
      "source": [
        "!ls saved_model/my_model"
      ],
      "execution_count": 22,
      "outputs": [
        {
          "output_type": "stream",
          "text": [
            "assets\tkeras_metadata.pb  saved_model.pb  variables\n"
          ],
          "name": "stdout"
        }
      ]
    },
    {
      "cell_type": "code",
      "metadata": {
        "colab": {
          "base_uri": "https://localhost:8080/"
        },
        "id": "wPo-UGoP6goX",
        "outputId": "7d9574b3-980f-49b7-8d93-047ca8bbc123"
      },
      "source": [
        "new_model = tf.keras.models.load_model('saved_model/my_model')\n",
        "\n",
        "new_model.summary()"
      ],
      "execution_count": 23,
      "outputs": [
        {
          "output_type": "stream",
          "text": [
            "Model: \"sequential_7\"\n",
            "_________________________________________________________________\n",
            "Layer (type)                 Output Shape              Param #   \n",
            "=================================================================\n",
            "dense_15 (Dense)             (None, 512)               401920    \n",
            "_________________________________________________________________\n",
            "dropout_8 (Dropout)          (None, 512)               0         \n",
            "_________________________________________________________________\n",
            "dense_16 (Dense)             (None, 10)                5130      \n",
            "=================================================================\n",
            "Total params: 407,050\n",
            "Trainable params: 407,050\n",
            "Non-trainable params: 0\n",
            "_________________________________________________________________\n"
          ],
          "name": "stdout"
        }
      ]
    },
    {
      "cell_type": "code",
      "metadata": {
        "colab": {
          "base_uri": "https://localhost:8080/"
        },
        "id": "i2m0DqLM6oSz",
        "outputId": "8e635d85-8264-4aac-82c4-b5156d9a9229"
      },
      "source": [
        "loss, acc = new_model.evaluate(test_images,  test_labels, verbose=2)\n",
        "print('Restored model, accuracy: {:5.2f}%'.format(100*acc))\n",
        "\n",
        "print(new_model.predict(test_images).shape)"
      ],
      "execution_count": 24,
      "outputs": [
        {
          "output_type": "stream",
          "text": [
            "32/32 - 0s - loss: 0.4088 - accuracy: 0.8680\n",
            "Restored model, accuracy: 86.80%\n",
            "(1000, 10)\n"
          ],
          "name": "stdout"
        }
      ]
    },
    {
      "cell_type": "code",
      "metadata": {
        "colab": {
          "base_uri": "https://localhost:8080/"
        },
        "id": "newU9CSX6qwS",
        "outputId": "082e1f63-8871-41fa-823b-184756c30867"
      },
      "source": [
        "model = create_model()\n",
        "model.fit(train_images, train_labels, epochs=5)\n",
        "\n",
        "model.save('my_model.h5')"
      ],
      "execution_count": 25,
      "outputs": [
        {
          "output_type": "stream",
          "text": [
            "Epoch 1/5\n",
            "32/32 [==============================] - 1s 6ms/step - loss: 1.1854 - accuracy: 0.6640\n",
            "Epoch 2/5\n",
            "32/32 [==============================] - 0s 5ms/step - loss: 0.4161 - accuracy: 0.8770\n",
            "Epoch 3/5\n",
            "32/32 [==============================] - 0s 6ms/step - loss: 0.2858 - accuracy: 0.9230\n",
            "Epoch 4/5\n",
            "32/32 [==============================] - 0s 6ms/step - loss: 0.2023 - accuracy: 0.9520\n",
            "Epoch 5/5\n",
            "32/32 [==============================] - 0s 6ms/step - loss: 0.1640 - accuracy: 0.9640\n"
          ],
          "name": "stdout"
        }
      ]
    },
    {
      "cell_type": "code",
      "metadata": {
        "colab": {
          "base_uri": "https://localhost:8080/"
        },
        "id": "ynlWv5XE6to3",
        "outputId": "9fe93d1f-c793-4091-92a9-95b23c8ba9b1"
      },
      "source": [
        "new_model = tf.keras.models.load_model('my_model.h5')\n",
        "\n",
        "new_model.summary()"
      ],
      "execution_count": 26,
      "outputs": [
        {
          "output_type": "stream",
          "text": [
            "Model: \"sequential_8\"\n",
            "_________________________________________________________________\n",
            "Layer (type)                 Output Shape              Param #   \n",
            "=================================================================\n",
            "dense_17 (Dense)             (None, 512)               401920    \n",
            "_________________________________________________________________\n",
            "dropout_9 (Dropout)          (None, 512)               0         \n",
            "_________________________________________________________________\n",
            "dense_18 (Dense)             (None, 10)                5130      \n",
            "=================================================================\n",
            "Total params: 407,050\n",
            "Trainable params: 407,050\n",
            "Non-trainable params: 0\n",
            "_________________________________________________________________\n"
          ],
          "name": "stdout"
        }
      ]
    },
    {
      "cell_type": "code",
      "metadata": {
        "colab": {
          "base_uri": "https://localhost:8080/"
        },
        "id": "p3cQU14L6wnQ",
        "outputId": "5963442e-ea70-4fa1-9732-839ba1180bb6"
      },
      "source": [
        "loss, acc = new_model.evaluate(test_images,  test_labels, verbose=2)\n",
        "print(\"Restored model, accuracy: {:5.2f}%\".format(100*acc))"
      ],
      "execution_count": 27,
      "outputs": [
        {
          "output_type": "stream",
          "text": [
            "32/32 - 0s - loss: 0.4361 - accuracy: 0.8570\n",
            "Restored model, accuracy: 85.70%\n"
          ],
          "name": "stdout"
        }
      ]
    },
    {
      "cell_type": "code",
      "metadata": {
        "id": "bbOtdvsG61BL"
      },
      "source": [
        ""
      ],
      "execution_count": null,
      "outputs": []
    }
  ]
}